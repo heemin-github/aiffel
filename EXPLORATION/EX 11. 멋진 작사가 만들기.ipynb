{
 "cells": [
  {
   "cell_type": "markdown",
   "metadata": {},
   "source": [
    "## Step 2. 데이터 읽어오기"
   ]
  },
  {
   "cell_type": "code",
   "execution_count": 1,
   "metadata": {},
   "outputs": [
    {
     "name": "stdout",
     "output_type": "stream",
     "text": [
      "데이터 크기: 187088\n",
      "Examples:\n",
      " ['\\ufeffbaby It was all a dream', 'I used to read Word Up magazine', 'Salt n Pepa and Heavy D up in the limousine']\n"
     ]
    }
   ],
   "source": [
    "import glob\n",
    "import os\n",
    "import re\n",
    "import numpy as np\n",
    "import tensorflow as tf\n",
    "\n",
    "txt_file_path = os.getenv('HOME')+'/aiffel//lyricist/data/lyrics/*'\n",
    "\n",
    "txt_list = glob.glob(txt_file_path)\n",
    "\n",
    "raw_corpus = []\n",
    "\n",
    "# 여러개의 txt 파일을 모두 읽어서 raw_corpus 에 담습니다.\n",
    "for txt_file in txt_list:\n",
    "    with open(txt_file, \"r\") as f:\n",
    "        raw = f.read().splitlines()\n",
    "        raw_corpus.extend(raw)\n",
    "\n",
    "print(\"데이터 크기:\", len(raw_corpus))\n",
    "print(\"Examples:\\n\", raw_corpus[:3])"
   ]
  },
  {
   "cell_type": "markdown",
   "metadata": {},
   "source": [
    "## Step 3. 데이터 정제\n"
   ]
  },
  {
   "cell_type": "markdown",
   "metadata": {},
   "source": [
    "\n",
    "앞서 배운 테크닉들을 활용해 문장 생성에 적합한 모양새로 데이터를 정제하세요!\n",
    "\n",
    "preprocess_sentence() 함수를 만든 것을 기억하시죠? 이를 활용해 데이터를 정제하도록 하겠습니다.\n",
    "\n",
    "추가로 지나치게 긴 문장은 다른 데이터들이 과도한 Padding을 갖게 하므로 제거합니다. 문장을 토큰화 했을 때 토큰의 개수가 15개를 넘어가면 잘라내기를 권합니다."
   ]
  },
  {
   "cell_type": "code",
   "execution_count": 2,
   "metadata": {},
   "outputs": [],
   "source": [
    "for idx, sentence in enumerate(raw_corpus):\n",
    "    if len(sentence) == 0: continue   # 길이가 0인 문장은 건너뜁니다.\n",
    "    if sentence[-1] == \":\": continue  # 문장의 끝이 : 인 문장은 건너뜁니다.\n",
    "\n",
    "    if idx > 9: break   # 일단 문장 10개만 확인해 볼 겁니다.\n",
    "        "
   ]
  },
  {
   "cell_type": "code",
   "execution_count": 3,
   "metadata": {},
   "outputs": [
    {
     "name": "stdout",
     "output_type": "stream",
     "text": [
      "<start> this is sample sentence . <end>\n"
     ]
    }
   ],
   "source": [
    "def preprocess_sentence(sentence):\n",
    "    sentence = sentence.lower().strip()       # 소문자로 바꾸고 양쪽 공백을 삭제\n",
    "  \n",
    "    # 아래 3단계를 거쳐 sentence는 스페이스 1개를 delimeter로 하는 소문자 단어 시퀀스로 바뀝니다.\n",
    "    sentence = re.sub(r\"([?.!,¿])\", r\" \\1 \", sentence)        # 패턴의 특수문자를 만나면 특수문자 양쪽에 공백을 추가\n",
    "    sentence = re.sub(r'[\" \"]+', \" \", sentence)                  # 공백 패턴을 만나면 스페이스 1개로 치환\n",
    "    sentence = re.sub(r\"[^a-zA-Z?.!,¿]+\", \" \", sentence)  # a-zA-Z?.!,¿ 패턴을 제외한 모든 문자(공백문자까지도)를 스페이스 1개로 치환\n",
    "\n",
    "    sentence = sentence.strip()\n",
    "\n",
    "    sentence = '<start> ' + sentence + ' <end>'      # 이전 스텝에서 본 것처럼 문장 앞뒤로 <start>와 <end>를 단어처럼 붙여 줍니다\n",
    "    \n",
    "    return sentence\n",
    "\n",
    "print(preprocess_sentence(\"This @_is ;;;sample        sentence.\"))   # 이 문장이 어떻게 필터링되는지 확인해 보세요."
   ]
  },
  {
   "cell_type": "code",
   "execution_count": 4,
   "metadata": {},
   "outputs": [
    {
     "data": {
      "text/plain": [
       "['<start> baby it was all a dream <end>',\n",
       " '<start> i used to read word up magazine <end>',\n",
       " '<start> salt n pepa and heavy d up in the limousine <end>',\n",
       " '<start> hangin pictures on my wall <end>',\n",
       " '<start> every saturday rap attack mr magic marley marl <end>',\n",
       " '<start> i let my tape rock til my tape popped <end>',\n",
       " '<start> smokin weed and bambu sippin on private stock <end>',\n",
       " '<start> way back when i had the red and black lumberjack <end>',\n",
       " '<start> with the hat to match <end>',\n",
       " '<start> remember rappin duke duhha duhha <end>']"
      ]
     },
     "execution_count": 4,
     "metadata": {},
     "output_type": "execute_result"
    }
   ],
   "source": [
    "#Target Sentence 구축\n",
    "corpus = []\n",
    "\n",
    "for sentence in raw_corpus:\n",
    "    if len(sentence) == 0: continue\n",
    "    if sentence[-1] == \":\": continue\n",
    "        \n",
    "    corpus.append(preprocess_sentence(sentence))\n",
    "        \n",
    "corpus[:10]"
   ]
  },
  {
   "cell_type": "code",
   "execution_count": 5,
   "metadata": {},
   "outputs": [
    {
     "name": "stdout",
     "output_type": "stream",
     "text": [
      "[[   2   51   11 ...    0    0    0]\n",
      " [   2    5  291 ...    0    0    0]\n",
      " [   2 3196  489 ...    0    0    0]\n",
      " ...\n",
      " [   2    7  224 ...    0    0    0]\n",
      " [  19  144    4 ...   19  886    3]\n",
      " [   2    8 3411 ...    0    0    0]] <keras_preprocessing.text.Tokenizer object at 0x7f2b908a7350>\n"
     ]
    }
   ],
   "source": [
    "def tokenize(corpus):\n",
    "    # 텐서플로우에서 제공하는 Tokenizer 패키지를 생성\n",
    "    tokenizer = tf.keras.preprocessing.text.Tokenizer(\n",
    "        num_words=12000,  # 전체 단어의 개수 \n",
    "        filters=' ',    # 별도로 전처리 로직을 추가할 수 있습니다. 이번에는 사용하지 않겠습니다.\n",
    "        oov_token=\"<unk>\"  # out-of-vocabulary, 사전에 없었던 단어는 어떤 토큰으로 대체할지\n",
    "    )\n",
    "    tokenizer.fit_on_texts(corpus)   # 우리가 구축한 corpus로부터 Tokenizer가 사전을 자동구축하게 됩니다.\n",
    "\n",
    "    # 이후 tokenizer를 활용하여 모델에 입력할 데이터셋을 구축하게 됩니다.\n",
    "    tensor = tokenizer.texts_to_sequences(corpus)   # tokenizer는 구축한 사전으로부터 corpus를 해석해 Tensor로 변환합니다.\n",
    "\n",
    "    # 입력 데이터의 시퀀스 길이를 일정하게 맞추기 위한 padding  메소드를 제공합니다.\n",
    "    # maxlen의 디폴트값은 None입니다. 이 경우 corpus의 가장 긴 문장을 기준으로 시퀀스 길이가 맞춰집니다.\n",
    "    tensor = tf.keras.preprocessing.sequence.pad_sequences(tensor, padding='post',maxlen=15)\n",
    "\n",
    "    print(tensor,tokenizer)\n",
    "    return tensor, tokenizer\n",
    "\n",
    "tensor, tokenizer = tokenize(corpus)"
   ]
  },
  {
   "cell_type": "markdown",
   "metadata": {},
   "source": [
    "## Step 4. 평가 데이터셋 분리\n"
   ]
  },
  {
   "cell_type": "markdown",
   "metadata": {},
   "source": [
    "\n",
    "훈련 데이터와 평가 데이터를 분리하세요!\n",
    "\n",
    "tokenize() 함수로 데이터를 Tensor로 변환한 후, sklearn 모듈의 train_test_split() 함수를 사용해 훈련 데이터와 평가 데이터를 분리하도록 하겠습니다. 단어장의 크기는 12,000 이상으로 설정하세요! 총 데이터의 20%를 평가 데이터셋으로 사용해 주세요!"
   ]
  },
  {
   "cell_type": "code",
   "execution_count": 6,
   "metadata": {},
   "outputs": [
    {
     "name": "stdout",
     "output_type": "stream",
     "text": [
      "[  2  51  11  57  24   9 339   3   0   0   0   0   0   0]\n",
      "[ 51  11  57  24   9 339   3   0   0   0   0   0   0   0]\n"
     ]
    }
   ],
   "source": [
    "src_input = tensor[:, :-1]  # tensor에서 마지막 토큰을 잘라내서 소스 문장을 생성합니다. 마지막 토큰은 <END>가 아니라 <pad>일 가능성이 높습니다.\n",
    "tgt_input = tensor[:, 1:]    # tensor에서 <START>를 잘라내서 타겟 문장을 생성합니다.\n",
    "\n",
    "print(src_input[0])\n",
    "print(tgt_input[0])"
   ]
  },
  {
   "cell_type": "code",
   "execution_count": 7,
   "metadata": {},
   "outputs": [
    {
     "data": {
      "text/plain": [
       "<BatchDataset shapes: ((256, 14), (256, 14)), types: (tf.int32, tf.int32)>"
      ]
     },
     "execution_count": 7,
     "metadata": {},
     "output_type": "execute_result"
    }
   ],
   "source": [
    "BUFFER_SIZE = len(src_input)\n",
    "BATCH_SIZE = 256\n",
    "steps_per_epoch = len(src_input) // BATCH_SIZE\n",
    "\n",
    "VOCAB_SIZE = tokenizer.num_words + 1    # tokenizer가 구축한 단어사전 15,000개와, 여기 포함되지 않은 0:<pad>를 포함하여 15,001개\n",
    "\n",
    "dataset = tf.data.Dataset.from_tensor_slices((src_input, tgt_input)).shuffle(BUFFER_SIZE)\n",
    "dataset = dataset.batch(BATCH_SIZE, drop_remainder=True)\n",
    "dataset"
   ]
  },
  {
   "cell_type": "code",
   "execution_count": 8,
   "metadata": {},
   "outputs": [],
   "source": [
    "class TextGenerator(tf.keras.Model):\n",
    "    def __init__(self, vocab_size, embedding_size, hidden_size):\n",
    "        super(TextGenerator, self).__init__()\n",
    "        \n",
    "        self.embedding = tf.keras.layers.Embedding(vocab_size, embedding_size)\n",
    "        self.rnn_1 = tf.keras.layers.LSTM(hidden_size, return_sequences=True)\n",
    "        self.rnn_2 = tf.keras.layers.LSTM(hidden_size, return_sequences=True)\n",
    "        self.linear = tf.keras.layers.Dense(vocab_size)\n",
    "        \n",
    "    def call(self, x):\n",
    "        out = self.embedding(x)\n",
    "        out = self.rnn_1(out)\n",
    "        out = self.rnn_2(out)\n",
    "        out = self.linear(out)\n",
    "        \n",
    "        return out\n",
    "    \n",
    "embedding_size = 256\n",
    "hidden_size = 1024\n",
    "model = TextGenerator(tokenizer.num_words + 1, embedding_size , hidden_size)"
   ]
  },
  {
   "cell_type": "code",
   "execution_count": 9,
   "metadata": {},
   "outputs": [
    {
     "data": {
      "text/plain": [
       "<tf.Tensor: shape=(256, 14, 12001), dtype=float32, numpy=\n",
       "array([[[-2.09811478e-04, -3.76212010e-05,  2.13728432e-04, ...,\n",
       "         -1.25130697e-04,  1.17359450e-04, -1.92954481e-04],\n",
       "        [-3.54488089e-04, -1.67609978e-04,  1.55632209e-04, ...,\n",
       "          1.42430974e-04, -3.21913067e-05, -6.22452702e-04],\n",
       "        [-2.33581857e-04, -1.77892347e-04,  1.75729525e-04, ...,\n",
       "          5.91209042e-04, -3.52156931e-04, -1.04238745e-03],\n",
       "        ...,\n",
       "        [-2.00790513e-04, -5.72136545e-04, -7.43967306e-04, ...,\n",
       "          1.09073101e-03,  6.85389605e-05, -9.85077349e-04],\n",
       "        [-4.48698964e-04, -7.93503190e-04, -7.84414704e-04, ...,\n",
       "          8.94660538e-04,  1.53708927e-04, -7.73432723e-04],\n",
       "        [-3.39065446e-04, -1.07877643e-03, -3.90834233e-04, ...,\n",
       "          5.17833163e-04, -2.63215188e-05, -5.86100621e-04]],\n",
       "\n",
       "       [[-1.81172843e-04, -2.03816002e-04, -4.21028060e-04, ...,\n",
       "          5.92479228e-06, -1.71980631e-04,  1.02662734e-05],\n",
       "        [-3.80531244e-04, -4.47619386e-04, -5.37731685e-04, ...,\n",
       "         -3.25390392e-05, -3.50611692e-04, -1.37165378e-04],\n",
       "        [-5.39250672e-04, -4.79159091e-04, -6.72399416e-04, ...,\n",
       "          1.98978727e-04, -1.30445580e-04,  2.57972097e-05],\n",
       "        ...,\n",
       "        [-6.12960255e-04, -2.60318397e-04, -7.94084626e-04, ...,\n",
       "         -3.18496139e-04,  4.85078526e-05, -5.29957819e-04],\n",
       "        [-5.17364126e-04, -2.29659854e-04, -1.19392027e-03, ...,\n",
       "          7.12948604e-05,  1.74002897e-04, -7.77415873e-04],\n",
       "        [-3.31490359e-04, -4.12150141e-04, -1.20126433e-03, ...,\n",
       "          4.45007987e-04,  7.73125139e-05, -8.76465172e-04]],\n",
       "\n",
       "       [[-2.17807974e-04, -3.59528385e-05,  1.97907546e-04, ...,\n",
       "         -9.19445029e-06,  2.83533969e-04,  1.84828285e-04],\n",
       "        [-3.94800154e-04, -8.07415345e-05,  4.40692005e-04, ...,\n",
       "         -3.24288209e-04,  6.40772574e-04,  2.21161958e-04],\n",
       "        [-6.29823015e-04, -2.86340772e-04,  1.26038998e-04, ...,\n",
       "         -4.57797752e-04,  6.88227592e-04,  2.70687247e-04],\n",
       "        ...,\n",
       "        [ 1.60124479e-03,  1.79281313e-04,  2.22104078e-04, ...,\n",
       "          1.35464454e-03,  1.01753906e-03, -8.58098094e-04],\n",
       "        [ 2.09111720e-03,  5.15838212e-04,  4.50492429e-04, ...,\n",
       "          1.46575586e-03,  8.26455653e-04, -9.89680761e-04],\n",
       "        [ 2.54131504e-03,  8.44047521e-04,  6.52016839e-04, ...,\n",
       "          1.57739932e-03,  6.70767680e-04, -1.10093050e-03]],\n",
       "\n",
       "       ...,\n",
       "\n",
       "       [[-2.17807974e-04, -3.59528385e-05,  1.97907546e-04, ...,\n",
       "         -9.19445029e-06,  2.83533969e-04,  1.84828285e-04],\n",
       "        [-1.83873926e-04, -1.96663546e-04,  1.47382394e-04, ...,\n",
       "          5.31498117e-05,  4.90893086e-04,  2.41721893e-04],\n",
       "        [-8.56927873e-05, -2.94613332e-04,  2.69589393e-04, ...,\n",
       "          1.99183269e-04,  6.27524452e-04,  4.18987038e-04],\n",
       "        ...,\n",
       "        [-1.30642336e-04, -1.29340551e-05,  9.03119915e-04, ...,\n",
       "          2.83168600e-04,  6.03210647e-04, -3.67913235e-05],\n",
       "        [ 4.48888968e-05, -2.09872742e-04,  1.12759019e-03, ...,\n",
       "          5.74781967e-04,  8.72476783e-04, -7.23364428e-05],\n",
       "        [ 1.19259552e-04, -5.50726894e-04,  8.61537643e-04, ...,\n",
       "          1.03359006e-03,  9.90635948e-04,  1.03222876e-04]],\n",
       "\n",
       "       [[-2.17807974e-04, -3.59528385e-05,  1.97907546e-04, ...,\n",
       "         -9.19445029e-06,  2.83533969e-04,  1.84828285e-04],\n",
       "        [-5.71421348e-04, -5.69267831e-05,  1.27965352e-04, ...,\n",
       "          7.77660098e-05,  3.53022246e-04,  5.17473032e-04],\n",
       "        [-9.45815642e-04,  1.34109519e-04, -1.84181442e-06, ...,\n",
       "          1.52463865e-04,  8.63343132e-07,  9.26953857e-04],\n",
       "        ...,\n",
       "        [ 1.37652387e-03,  1.62223470e-03, -4.13567439e-04, ...,\n",
       "          1.75068062e-03,  5.58647793e-04, -4.46626073e-04],\n",
       "        [ 1.90919254e-03,  1.74401712e-03, -1.17743766e-04, ...,\n",
       "          1.77848421e-03,  4.80858871e-04, -7.00411852e-04],\n",
       "        [ 2.39873631e-03,  1.86956557e-03,  1.49257758e-04, ...,\n",
       "          1.81853841e-03,  4.17083938e-04, -9.04625107e-04]],\n",
       "\n",
       "       [[-2.17807974e-04, -3.59528385e-05,  1.97907546e-04, ...,\n",
       "         -9.19445029e-06,  2.83533969e-04,  1.84828285e-04],\n",
       "        [-2.11750579e-04, -4.75397574e-05,  5.05619217e-04, ...,\n",
       "          1.42669887e-04,  4.98224341e-04,  4.51471569e-04],\n",
       "        [-1.09390465e-04, -1.38886913e-04,  7.08694104e-04, ...,\n",
       "          2.51794496e-04,  7.93815067e-04,  7.15749979e-04],\n",
       "        ...,\n",
       "        [ 1.54147379e-03,  6.64219086e-04,  4.95546672e-04, ...,\n",
       "          1.79441855e-03,  9.14927572e-04, -9.86270723e-04],\n",
       "        [ 2.04575784e-03,  9.56772885e-04,  6.56362274e-04, ...,\n",
       "          1.87010621e-03,  7.67851190e-04, -1.11989747e-03],\n",
       "        [ 2.50641094e-03,  1.22694694e-03,  7.94755295e-04, ...,\n",
       "          1.94603729e-03,  6.51124283e-04, -1.22801901e-03]]],\n",
       "      dtype=float32)>"
      ]
     },
     "execution_count": 9,
     "metadata": {},
     "output_type": "execute_result"
    }
   ],
   "source": [
    "for src_sample, tgt_sample in dataset.take(1): break\n",
    "model(src_sample)"
   ]
  },
  {
   "cell_type": "code",
   "execution_count": 10,
   "metadata": {},
   "outputs": [],
   "source": [
    "from sklearn.model_selection import train_test_split\n",
    "enc_train, enc_val, dec_train, dec_val = train_test_split(src_input, tgt_input, test_size=0.2)"
   ]
  },
  {
   "cell_type": "code",
   "execution_count": 11,
   "metadata": {},
   "outputs": [
    {
     "name": "stdout",
     "output_type": "stream",
     "text": [
      "Source Train: (140599, 14)\n",
      "Target Train: (140599, 14)\n"
     ]
    }
   ],
   "source": [
    "print(\"Source Train:\", enc_train.shape)\n",
    "print(\"Target Train:\", dec_train.shape)"
   ]
  },
  {
   "cell_type": "markdown",
   "metadata": {},
   "source": [
    "## Step 5. 인공지능 만들기\n"
   ]
  },
  {
   "cell_type": "code",
   "execution_count": 13,
   "metadata": {},
   "outputs": [
    {
     "name": "stdout",
     "output_type": "stream",
     "text": [
      "Epoch 1/10\n",
      "4394/4394 [==============================] - 157s 36ms/step - loss: 3.2579 - val_loss: 2.9686\n",
      "Epoch 2/10\n",
      "4394/4394 [==============================] - 153s 35ms/step - loss: 2.7944 - val_loss: 2.7498\n",
      "Epoch 3/10\n",
      "4394/4394 [==============================] - 154s 35ms/step - loss: 2.4873 - val_loss: 2.6298\n",
      "Epoch 4/10\n",
      "4394/4394 [==============================] - 155s 35ms/step - loss: 2.2212 - val_loss: 2.5562\n",
      "Epoch 5/10\n",
      "4394/4394 [==============================] - 157s 36ms/step - loss: 1.9937 - val_loss: 2.5243\n",
      "Epoch 6/10\n",
      "4394/4394 [==============================] - 167s 38ms/step - loss: 1.7990 - val_loss: 2.5081\n",
      "Epoch 7/10\n",
      "4394/4394 [==============================] - 158s 36ms/step - loss: 1.6334 - val_loss: 2.5109\n",
      "Epoch 8/10\n",
      "4394/4394 [==============================] - 153s 35ms/step - loss: 1.4937 - val_loss: 2.5286\n",
      "Epoch 9/10\n",
      "4394/4394 [==============================] - 153s 35ms/step - loss: 1.3776 - val_loss: 2.5556\n",
      "Epoch 10/10\n",
      "4394/4394 [==============================] - 156s 35ms/step - loss: 1.2823 - val_loss: 2.5962\n"
     ]
    },
    {
     "data": {
      "text/plain": [
       "<tensorflow.python.keras.callbacks.History at 0x7f2b187d3410>"
      ]
     },
     "execution_count": 13,
     "metadata": {},
     "output_type": "execute_result"
    }
   ],
   "source": [
    "optimizer = tf.keras.optimizers.Adam()\n",
    "loss = tf.keras.losses.SparseCategoricalCrossentropy(\n",
    "    from_logits=True,\n",
    "    reduction='none'\n",
    ")\n",
    "\n",
    "model.compile(loss=loss, optimizer=optimizer)\n",
    "model.fit(enc_train, dec_train, validation_data=(enc_val, dec_val),epochs=10)"
   ]
  },
  {
   "cell_type": "code",
   "execution_count": 16,
   "metadata": {},
   "outputs": [],
   "source": [
    "def generate_text(model, tokenizer, init_sentence=\"<start>\", max_len=20):\n",
    "    # 테스트를 위해서 입력받은 init_sentence도 일단 텐서로 변환합니다.\n",
    "    test_input = tokenizer.texts_to_sequences([init_sentence])\n",
    "    test_tensor = tf.convert_to_tensor(test_input, dtype=tf.int64)\n",
    "    end_token = tokenizer.word_index[\"<end>\"]\n",
    "\n",
    "    # 텍스트를 실제로 생성할때는 루프를 돌면서 단어 하나씩 생성해야 합니다. \n",
    "    while True:\n",
    "        predict = model(test_tensor)  # 입력받은 문장의 텐서를 입력합니다. \n",
    "        predict_word = tf.argmax(tf.nn.softmax(predict, axis=-1), axis=-1)[:, -1]   # 우리 모델이 예측한 마지막 단어가 바로 새롭게 생성한 단어가 됩니다. \n",
    "\n",
    "        # 우리 모델이 새롭게 예측한 단어를 입력 문장의 뒤에 붙여 줍니다. \n",
    "        test_tensor = tf.concat([test_tensor, \n",
    "\t\t\t\t\t\t\t\t\t\t\t\t\t\t\t\t tf.expand_dims(predict_word, axis=0)], axis=-1)\n",
    "\n",
    "        # 우리 모델이 <END>를 예측했거나, max_len에 도달하지 않았다면  while 루프를 또 돌면서 다음 단어를 예측해야 합니다.\n",
    "        if predict_word.numpy()[0] == end_token: break\n",
    "        if test_tensor.shape[1] >= max_len: break\n",
    "\n",
    "    generated = \"\"\n",
    "    # 생성된 tensor 안에 있는 word index를 tokenizer.index_word 사전을 통해 실제 단어로 하나씩 변환합니다. \n",
    "    for word_index in test_tensor[0].numpy():\n",
    "        generated += tokenizer.index_word[word_index] + \" \"\n",
    "\n",
    "    return generated   # 이것이 최종적으로 모델이 생성한 자연어 문장입니다."
   ]
  },
  {
   "cell_type": "markdown",
   "metadata": {},
   "source": [
    "## 6. 가사 도출"
   ]
  },
  {
   "cell_type": "code",
   "execution_count": 21,
   "metadata": {},
   "outputs": [
    {
     "data": {
      "text/plain": [
       "'<start> i m not living if you re not by my side <end> '"
      ]
     },
     "execution_count": 21,
     "metadata": {},
     "output_type": "execute_result"
    }
   ],
   "source": [
    "generate_text(model, tokenizer, init_sentence=\"<start> I\")"
   ]
  },
  {
   "cell_type": "markdown",
   "metadata": {},
   "source": [
    "## Report"
   ]
  },
  {
   "cell_type": "markdown",
   "metadata": {},
   "source": [
    "가사를 분석, 학습해서 새로운 가사를 만들어낼 수 있다는 것이 신기했다.\n",
    "발라드 가사는 어느정도 정형화 되어 있다고 생각을 하지만 더 가르친다면 랩이라던가 힙합 라임도 맞추면서 가사를 쓸 수 있을지 궁금했다."
   ]
  }
 ],
 "metadata": {
  "kernelspec": {
   "display_name": "aiffel",
   "language": "python",
   "name": "aiffel"
  },
  "language_info": {
   "codemirror_mode": {
    "name": "ipython",
    "version": 3
   },
   "file_extension": ".py",
   "mimetype": "text/x-python",
   "name": "python",
   "nbconvert_exporter": "python",
   "pygments_lexer": "ipython3",
   "version": "3.7.6"
  }
 },
 "nbformat": 4,
 "nbformat_minor": 4
}
