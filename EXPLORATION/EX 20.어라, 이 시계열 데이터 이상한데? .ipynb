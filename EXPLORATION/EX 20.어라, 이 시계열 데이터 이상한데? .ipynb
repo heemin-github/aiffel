{
 "cells": [
  {
   "cell_type": "markdown",
   "metadata": {},
   "source": [
    "## Step 1. 데이터 구하기"
   ]
  },
  {
   "cell_type": "code",
   "execution_count": 19,
   "metadata": {},
   "outputs": [],
   "source": [
    "import requests\n",
    "import os\n",
    "\n",
    "url = \"https://query1.finance.yahoo.com/v7/finance/download/NQ=F?period1=969235200&period2=1603152000&interval=1d&events=history&includeAdjustedClose=true\"\n",
    "\n",
    "# 데이터를 요청하고 그 결과를 response로 받습니다.\n",
    "response = requests.get(url)\n",
    "\n",
    "csv_file = os.getenv('HOME')+'/aiffel/anomaly_detection/kospi/nasdaq.csv'\n",
    "\n",
    "# response 의 컨텐츠를 csv로 저장합니다.\n",
    "with open(csv_file, \"w\") as fp:  \n",
    "    fp.write(response.text)"
   ]
  },
  {
   "cell_type": "code",
   "execution_count": 20,
   "metadata": {},
   "outputs": [
    {
     "data": {
      "text/html": [
       "<div>\n",
       "<style scoped>\n",
       "    .dataframe tbody tr th:only-of-type {\n",
       "        vertical-align: middle;\n",
       "    }\n",
       "\n",
       "    .dataframe tbody tr th {\n",
       "        vertical-align: top;\n",
       "    }\n",
       "\n",
       "    .dataframe thead th {\n",
       "        text-align: right;\n",
       "    }\n",
       "</style>\n",
       "<table border=\"1\" class=\"dataframe\">\n",
       "  <thead>\n",
       "    <tr style=\"text-align: right;\">\n",
       "      <th></th>\n",
       "      <th>Date</th>\n",
       "      <th>Open</th>\n",
       "      <th>High</th>\n",
       "      <th>Low</th>\n",
       "      <th>Close</th>\n",
       "      <th>Adj Close</th>\n",
       "      <th>Volume</th>\n",
       "    </tr>\n",
       "  </thead>\n",
       "  <tbody>\n",
       "    <tr>\n",
       "      <th>0</th>\n",
       "      <td>2000-09-18</td>\n",
       "      <td>3721.0</td>\n",
       "      <td>3785.5</td>\n",
       "      <td>3602.0</td>\n",
       "      <td>3653.5</td>\n",
       "      <td>3653.5</td>\n",
       "      <td>72994.0</td>\n",
       "    </tr>\n",
       "    <tr>\n",
       "      <th>1</th>\n",
       "      <td>2000-09-19</td>\n",
       "      <td>3658.5</td>\n",
       "      <td>3817.0</td>\n",
       "      <td>3656.0</td>\n",
       "      <td>3804.0</td>\n",
       "      <td>3804.0</td>\n",
       "      <td>70029.0</td>\n",
       "    </tr>\n",
       "  </tbody>\n",
       "</table>\n",
       "</div>"
      ],
      "text/plain": [
       "         Date    Open    High     Low   Close  Adj Close   Volume\n",
       "0  2000-09-18  3721.0  3785.5  3602.0  3653.5     3653.5  72994.0\n",
       "1  2000-09-19  3658.5  3817.0  3656.0  3804.0     3804.0  70029.0"
      ]
     },
     "execution_count": 20,
     "metadata": {},
     "output_type": "execute_result"
    }
   ],
   "source": [
    "# 저장한 csv를 읽어옵니다.\n",
    "import pandas as pd\n",
    "df = pd.read_csv(csv_file)\n",
    "df.head(2)"
   ]
  },
  {
   "cell_type": "code",
   "execution_count": 21,
   "metadata": {},
   "outputs": [
    {
     "data": {
      "text/plain": [
       "Date            0\n",
       "Open         1072\n",
       "High         1072\n",
       "Low          1072\n",
       "Close        1072\n",
       "Adj Close    1072\n",
       "Volume       1072\n",
       "dtype: int64"
      ]
     },
     "execution_count": 21,
     "metadata": {},
     "output_type": "execute_result"
    }
   ],
   "source": [
    "# 날짜데이터를 Datetime 형식으로 바꿔줍니다.\n",
    "df.loc[:,'Date'] = pd.to_datetime(df.Date)\n",
    "\n",
    "# 데이터의 정합성을 확인합니다\n",
    "df.isna().sum()"
   ]
  },
  {
   "cell_type": "code",
   "execution_count": 22,
   "metadata": {},
   "outputs": [
    {
     "name": "stdout",
     "output_type": "stream",
     "text": [
      "삭제 전 데이터 길이(일자수): 6166\n",
      "삭제 후 데이터 길이(일자수): 5094\n"
     ]
    },
    {
     "data": {
      "text/plain": [
       "Date         0\n",
       "Open         0\n",
       "High         0\n",
       "Low          0\n",
       "Close        0\n",
       "Adj Close    0\n",
       "Volume       0\n",
       "dtype: int64"
      ]
     },
     "execution_count": 22,
     "metadata": {},
     "output_type": "execute_result"
    }
   ],
   "source": [
    "print(\"삭제 전 데이터 길이(일자수):\",len(df))\n",
    "df = df.dropna(axis=0).reset_index(drop=True)\n",
    "\n",
    "print(\"삭제 후 데이터 길이(일자수):\",len(df))\n",
    "df.isna().sum()"
   ]
  },
  {
   "cell_type": "code",
   "execution_count": 24,
   "metadata": {},
   "outputs": [
    {
     "data": {
      "text/html": [
       "<div>\n",
       "<style scoped>\n",
       "    .dataframe tbody tr th:only-of-type {\n",
       "        vertical-align: middle;\n",
       "    }\n",
       "\n",
       "    .dataframe tbody tr th {\n",
       "        vertical-align: top;\n",
       "    }\n",
       "\n",
       "    .dataframe thead th {\n",
       "        text-align: right;\n",
       "    }\n",
       "</style>\n",
       "<table border=\"1\" class=\"dataframe\">\n",
       "  <thead>\n",
       "    <tr style=\"text-align: right;\">\n",
       "      <th></th>\n",
       "      <th>Date</th>\n",
       "      <th>Open</th>\n",
       "      <th>High</th>\n",
       "      <th>Low</th>\n",
       "      <th>Close</th>\n",
       "      <th>Adj Close</th>\n",
       "      <th>Volume</th>\n",
       "    </tr>\n",
       "  </thead>\n",
       "  <tbody>\n",
       "  </tbody>\n",
       "</table>\n",
       "</div>"
      ],
      "text/plain": [
       "Empty DataFrame\n",
       "Columns: [Date, Open, High, Low, Close, Adj Close, Volume]\n",
       "Index: []"
      ]
     },
     "execution_count": 24,
     "metadata": {},
     "output_type": "execute_result"
    }
   ],
   "source": [
    "df.loc[df.Low > df.High]"
   ]
  },
  {
   "cell_type": "markdown",
   "metadata": {},
   "source": [
    "흠 이상 데이터가 없네요"
   ]
  },
  {
   "cell_type": "markdown",
   "metadata": {},
   "source": [
    "## Step 2. 기본 통계분석으로 이상치 찾기\n"
   ]
  },
  {
   "cell_type": "markdown",
   "metadata": {},
   "source": [
    "### 데이터의 분포를 그려보기\n"
   ]
  },
  {
   "cell_type": "code",
   "execution_count": 26,
   "metadata": {},
   "outputs": [
    {
     "name": "stdout",
     "output_type": "stream",
     "text": [
      "0.0\n"
     ]
    }
   ],
   "source": [
    "from statsmodels.stats.weightstats import ztest\n",
    "_, p = ztest(df.Close)\n",
    "print(p)"
   ]
  },
  {
   "cell_type": "code",
   "execution_count": 28,
   "metadata": {},
   "outputs": [
    {
     "data": {
      "image/png": "[encoded data removed]",
      "text/plain": [
       "<Figure size 864x648 with 4 Axes>"
      ]
     },
     "metadata": {
      "needs_background": "light"
     },
     "output_type": "display_data"
    }
   ],
   "source": [
    "%matplotlib inline\n",
    "from scipy.stats import norm\n",
    "import numpy as np\n",
    "import matplotlib.pyplot as plt\n",
    "from statsmodels.tsa.seasonal import seasonal_decompose\n",
    "result = seasonal_decompose(df.Close, model='additive', two_sided=True, \n",
    "                            period=50, extrapolate_trend='freq') # 계절적 성분 50일로 가정\n",
    "\n",
    "fig, axes = plt.subplots(ncols=1, nrows=4, sharex=True, figsize=(12,9))\n",
    "result.observed.plot(ax=axes[0], legend=False)\n",
    "axes[0].set_ylabel('Observed')\n",
    "result.trend.plot(ax=axes[1], legend=False)\n",
    "axes[1].set_ylabel('Trend')\n",
    "result.seasonal.plot(ax=axes[2], legend=False)\n",
    "axes[2].set_ylabel('Seasonal')\n",
    "result.resid.plot(ax=axes[3], legend=False)\n",
    "axes[3].set_ylabel('Residual')\n",
    "plt.show()"
   ]
  },
  {
   "cell_type": "code",
   "execution_count": 29,
   "metadata": {},
   "outputs": [
    {
     "data": {
      "image/png": "[encoded data removed]",
      "text/plain": [
       "<Figure size 648x432 with 1 Axes>"
      ]
     },
     "metadata": {
      "needs_background": "light"
     },
     "output_type": "display_data"
    }
   ],
   "source": [
    "#Residual 분포 그려보기\n",
    "fig, ax = plt.subplots(figsize=(9,6))\n",
    "_ = plt.hist(result.resid, 100, density=True, alpha=0.75)"
   ]
  },
  {
   "cell_type": "code",
   "execution_count": 30,
   "metadata": {},
   "outputs": [
    {
     "name": "stdout",
     "output_type": "stream",
     "text": [
      "-0.8942734929026334 0.37117557875830953\n"
     ]
    }
   ],
   "source": [
    "r = result.resid.values\n",
    "st, p = ztest(r)\n",
    "print(st,p)"
   ]
  },
  {
   "cell_type": "markdown",
   "metadata": {},
   "source": [
    "p 값이 0.5를 조금 넘었지만 이정도는 괜찮을 것 같습니다"
   ]
  },
  {
   "cell_type": "markdown",
   "metadata": {},
   "source": [
    "### ## 3σ 기준 신뢰구간으로 이상치 찾기\n"
   ]
  },
  {
   "cell_type": "code",
   "execution_count": 31,
   "metadata": {},
   "outputs": [
    {
     "name": "stdout",
     "output_type": "stream",
     "text": [
      "평균: -1.3857940518773666 표준편차: 110.60068205120827\n",
      "이상치 갯수: 93\n"
     ]
    }
   ],
   "source": [
    "# 평균과 표준편차 출력\n",
    "mu, std = result.resid.mean(), result.resid.std()\n",
    "print(\"평균:\", mu, \"표준편차:\", std)\n",
    "\n",
    "# 3-sigma(표준편차)를 기준으로 이상치 판단\n",
    "print(\"이상치 갯수:\", len(result.resid[(result.resid>mu+3*std)|(result.resid<mu-3*std)]))"
   ]
  },
  {
   "cell_type": "code",
   "execution_count": 32,
   "metadata": {},
   "outputs": [
    {
     "data": {
      "text/plain": [
       "66     2000-12-20\n",
       "73     2001-01-02\n",
       "91     2001-01-29\n",
       "92     2001-01-30\n",
       "136    2001-04-03\n",
       "          ...    \n",
       "5083   2020-10-05\n",
       "5084   2020-10-06\n",
       "5085   2020-10-07\n",
       "5086   2020-10-08\n",
       "5093   2020-10-19\n",
       "Name: Date, Length: 93, dtype: datetime64[ns]"
      ]
     },
     "execution_count": 32,
     "metadata": {},
     "output_type": "execute_result"
    }
   ],
   "source": [
    "df.Date[result.resid[\n",
    "    (result.resid>mu+3*std)|(result.resid<mu-3*std)].index]"
   ]
  },
  {
   "cell_type": "markdown",
   "metadata": {},
   "source": [
    "## Step 3. Unsupervised Clustering 으로 이상치 찾기\n"
   ]
  },
  {
   "cell_type": "markdown",
   "metadata": {},
   "source": [
    "### k-means로 분석하기\n"
   ]
  },
  {
   "cell_type": "code",
   "execution_count": 33,
   "metadata": {},
   "outputs": [
    {
     "data": {
      "text/html": [
       "<div>\n",
       "<style scoped>\n",
       "    .dataframe tbody tr th:only-of-type {\n",
       "        vertical-align: middle;\n",
       "    }\n",
       "\n",
       "    .dataframe tbody tr th {\n",
       "        vertical-align: top;\n",
       "    }\n",
       "\n",
       "    .dataframe thead th {\n",
       "        text-align: right;\n",
       "    }\n",
       "</style>\n",
       "<table border=\"1\" class=\"dataframe\">\n",
       "  <thead>\n",
       "    <tr style=\"text-align: right;\">\n",
       "      <th></th>\n",
       "      <th>Open</th>\n",
       "      <th>High</th>\n",
       "      <th>Low</th>\n",
       "      <th>Close</th>\n",
       "      <th>Volume</th>\n",
       "    </tr>\n",
       "  </thead>\n",
       "  <tbody>\n",
       "    <tr>\n",
       "      <th>count</th>\n",
       "      <td>5094.000000</td>\n",
       "      <td>5094.000000</td>\n",
       "      <td>5094.000000</td>\n",
       "      <td>5094.000000</td>\n",
       "      <td>5094.000000</td>\n",
       "    </tr>\n",
       "    <tr>\n",
       "      <th>mean</th>\n",
       "      <td>3324.303285</td>\n",
       "      <td>3355.663089</td>\n",
       "      <td>3290.834806</td>\n",
       "      <td>3326.157530</td>\n",
       "      <td>287799.789978</td>\n",
       "    </tr>\n",
       "    <tr>\n",
       "      <th>std</th>\n",
       "      <td>2390.871506</td>\n",
       "      <td>2412.479986</td>\n",
       "      <td>2366.728217</td>\n",
       "      <td>2394.718369</td>\n",
       "      <td>109505.235488</td>\n",
       "    </tr>\n",
       "    <tr>\n",
       "      <th>min</th>\n",
       "      <td>914.415000</td>\n",
       "      <td>934.695000</td>\n",
       "      <td>895.770000</td>\n",
       "      <td>915.335000</td>\n",
       "      <td>64880.520000</td>\n",
       "    </tr>\n",
       "    <tr>\n",
       "      <th>25%</th>\n",
       "      <td>1584.251875</td>\n",
       "      <td>1597.572500</td>\n",
       "      <td>1571.058750</td>\n",
       "      <td>1584.191100</td>\n",
       "      <td>220550.460000</td>\n",
       "    </tr>\n",
       "    <tr>\n",
       "      <th>50%</th>\n",
       "      <td>2263.775000</td>\n",
       "      <td>2291.211250</td>\n",
       "      <td>2231.463750</td>\n",
       "      <td>2264.287900</td>\n",
       "      <td>268829.760000</td>\n",
       "    </tr>\n",
       "    <tr>\n",
       "      <th>75%</th>\n",
       "      <td>4433.603750</td>\n",
       "      <td>4464.010625</td>\n",
       "      <td>4399.788125</td>\n",
       "      <td>4434.981250</td>\n",
       "      <td>319616.697500</td>\n",
       "    </tr>\n",
       "    <tr>\n",
       "      <th>max</th>\n",
       "      <td>12064.786259</td>\n",
       "      <td>12214.296509</td>\n",
       "      <td>11897.172140</td>\n",
       "      <td>12066.724264</td>\n",
       "      <td>776809.340000</td>\n",
       "    </tr>\n",
       "  </tbody>\n",
       "</table>\n",
       "</div>"
      ],
      "text/plain": [
       "               Open          High           Low         Close         Volume\n",
       "count   5094.000000   5094.000000   5094.000000   5094.000000    5094.000000\n",
       "mean    3324.303285   3355.663089   3290.834806   3326.157530  287799.789978\n",
       "std     2390.871506   2412.479986   2366.728217   2394.718369  109505.235488\n",
       "min      914.415000    934.695000    895.770000    915.335000   64880.520000\n",
       "25%     1584.251875   1597.572500   1571.058750   1584.191100  220550.460000\n",
       "50%     2263.775000   2291.211250   2231.463750   2264.287900  268829.760000\n",
       "75%     4433.603750   4464.010625   4399.788125   4434.981250  319616.697500\n",
       "max    12064.786259  12214.296509  11897.172140  12066.724264  776809.340000"
      ]
     },
     "execution_count": 33,
     "metadata": {},
     "output_type": "execute_result"
    }
   ],
   "source": [
    "# 데이터 전처리\n",
    "def my_decompose(df, features, freq=50):\n",
    "    trend = pd.DataFrame()\n",
    "    seasonal = pd.DataFrame()\n",
    "    resid = pd.DataFrame()\n",
    "    \n",
    "    # 사용할 feature 마다 decompose 를 수행합니다.\n",
    "    for f in features:\n",
    "        result = seasonal_decompose(df[f], \n",
    "                                    model='additive', period=freq, extrapolate_trend=freq)\n",
    "        trend[f] = result.trend.values\n",
    "        seasonal[f] = result.seasonal.values\n",
    "        resid[f] = result.resid.values\n",
    "        \n",
    "    return trend, seasonal, resid\n",
    "\n",
    "# 각 변수별 트렌드/계절적/잔차\n",
    "tdf, sdf, rdf = my_decompose(df, features=['Open','High','Low','Close','Volume'])\n",
    "tdf.describe()"
   ]
  },
  {
   "cell_type": "code",
   "execution_count": 34,
   "metadata": {},
   "outputs": [
    {
     "data": {
      "text/html": [
       "<div>\n",
       "<style scoped>\n",
       "    .dataframe tbody tr th:only-of-type {\n",
       "        vertical-align: middle;\n",
       "    }\n",
       "\n",
       "    .dataframe tbody tr th {\n",
       "        vertical-align: top;\n",
       "    }\n",
       "\n",
       "    .dataframe thead th {\n",
       "        text-align: right;\n",
       "    }\n",
       "</style>\n",
       "<table border=\"1\" class=\"dataframe\">\n",
       "  <thead>\n",
       "    <tr style=\"text-align: right;\">\n",
       "      <th></th>\n",
       "      <th>Open</th>\n",
       "      <th>High</th>\n",
       "      <th>Low</th>\n",
       "      <th>Close</th>\n",
       "      <th>Volume</th>\n",
       "    </tr>\n",
       "  </thead>\n",
       "  <tbody>\n",
       "    <tr>\n",
       "      <th>count</th>\n",
       "      <td>5094.000000</td>\n",
       "      <td>5094.000000</td>\n",
       "      <td>5094.000000</td>\n",
       "      <td>5094.000000</td>\n",
       "      <td>5094.000000</td>\n",
       "    </tr>\n",
       "    <tr>\n",
       "      <th>mean</th>\n",
       "      <td>-1.494218</td>\n",
       "      <td>-1.447168</td>\n",
       "      <td>-1.393323</td>\n",
       "      <td>-1.402187</td>\n",
       "      <td>132.899742</td>\n",
       "    </tr>\n",
       "    <tr>\n",
       "      <th>std</th>\n",
       "      <td>113.106458</td>\n",
       "      <td>102.570229</td>\n",
       "      <td>152.449023</td>\n",
       "      <td>110.763008</td>\n",
       "      <td>110724.899203</td>\n",
       "    </tr>\n",
       "    <tr>\n",
       "      <th>min</th>\n",
       "      <td>-1280.163546</td>\n",
       "      <td>-1494.231533</td>\n",
       "      <td>-6766.932144</td>\n",
       "      <td>-1389.770659</td>\n",
       "      <td>-603014.586328</td>\n",
       "    </tr>\n",
       "    <tr>\n",
       "      <th>25%</th>\n",
       "      <td>-37.912202</td>\n",
       "      <td>-35.100432</td>\n",
       "      <td>-38.148710</td>\n",
       "      <td>-37.371552</td>\n",
       "      <td>-53397.033973</td>\n",
       "    </tr>\n",
       "    <tr>\n",
       "      <th>50%</th>\n",
       "      <td>3.575670</td>\n",
       "      <td>3.350366</td>\n",
       "      <td>4.411650</td>\n",
       "      <td>2.958782</td>\n",
       "      <td>-584.124075</td>\n",
       "    </tr>\n",
       "    <tr>\n",
       "      <th>75%</th>\n",
       "      <td>40.353926</td>\n",
       "      <td>37.613888</td>\n",
       "      <td>42.843719</td>\n",
       "      <td>40.813609</td>\n",
       "      <td>51481.304420</td>\n",
       "    </tr>\n",
       "    <tr>\n",
       "      <th>max</th>\n",
       "      <td>996.821566</td>\n",
       "      <td>933.584382</td>\n",
       "      <td>975.207534</td>\n",
       "      <td>996.232816</td>\n",
       "      <td>810690.898648</td>\n",
       "    </tr>\n",
       "  </tbody>\n",
       "</table>\n",
       "</div>"
      ],
      "text/plain": [
       "              Open         High          Low        Close         Volume\n",
       "count  5094.000000  5094.000000  5094.000000  5094.000000    5094.000000\n",
       "mean     -1.494218    -1.447168    -1.393323    -1.402187     132.899742\n",
       "std     113.106458   102.570229   152.449023   110.763008  110724.899203\n",
       "min   -1280.163546 -1494.231533 -6766.932144 -1389.770659 -603014.586328\n",
       "25%     -37.912202   -35.100432   -38.148710   -37.371552  -53397.033973\n",
       "50%       3.575670     3.350366     4.411650     2.958782    -584.124075\n",
       "75%      40.353926    37.613888    42.843719    40.813609   51481.304420\n",
       "max     996.821566   933.584382   975.207534   996.232816  810690.898648"
      ]
     },
     "execution_count": 34,
     "metadata": {},
     "output_type": "execute_result"
    }
   ],
   "source": [
    "rdf.describe()"
   ]
  },
  {
   "cell_type": "code",
   "execution_count": 35,
   "metadata": {},
   "outputs": [
    {
     "data": {
      "text/html": [
       "<div>\n",
       "<style scoped>\n",
       "    .dataframe tbody tr th:only-of-type {\n",
       "        vertical-align: middle;\n",
       "    }\n",
       "\n",
       "    .dataframe tbody tr th {\n",
       "        vertical-align: top;\n",
       "    }\n",
       "\n",
       "    .dataframe thead th {\n",
       "        text-align: right;\n",
       "    }\n",
       "</style>\n",
       "<table border=\"1\" class=\"dataframe\">\n",
       "  <thead>\n",
       "    <tr style=\"text-align: right;\">\n",
       "      <th></th>\n",
       "      <th>Open</th>\n",
       "      <th>High</th>\n",
       "      <th>Low</th>\n",
       "      <th>Close</th>\n",
       "      <th>Volume</th>\n",
       "    </tr>\n",
       "  </thead>\n",
       "  <tbody>\n",
       "    <tr>\n",
       "      <th>count</th>\n",
       "      <td>5094.000000</td>\n",
       "      <td>5094.000000</td>\n",
       "      <td>5094.000000</td>\n",
       "      <td>5094.000000</td>\n",
       "      <td>5094.000000</td>\n",
       "    </tr>\n",
       "    <tr>\n",
       "      <th>mean</th>\n",
       "      <td>-0.008616</td>\n",
       "      <td>-0.006603</td>\n",
       "      <td>-0.013197</td>\n",
       "      <td>-0.009202</td>\n",
       "      <td>22.286330</td>\n",
       "    </tr>\n",
       "    <tr>\n",
       "      <th>std</th>\n",
       "      <td>11.597437</td>\n",
       "      <td>10.750511</td>\n",
       "      <td>13.684042</td>\n",
       "      <td>11.536247</td>\n",
       "      <td>14557.355693</td>\n",
       "    </tr>\n",
       "    <tr>\n",
       "      <th>min</th>\n",
       "      <td>-25.636086</td>\n",
       "      <td>-26.520436</td>\n",
       "      <td>-46.655356</td>\n",
       "      <td>-25.083118</td>\n",
       "      <td>-35905.398752</td>\n",
       "    </tr>\n",
       "    <tr>\n",
       "      <th>25%</th>\n",
       "      <td>-6.213432</td>\n",
       "      <td>-6.863078</td>\n",
       "      <td>-8.514140</td>\n",
       "      <td>-6.951926</td>\n",
       "      <td>-11576.678563</td>\n",
       "    </tr>\n",
       "    <tr>\n",
       "      <th>50%</th>\n",
       "      <td>2.283903</td>\n",
       "      <td>2.699136</td>\n",
       "      <td>3.168488</td>\n",
       "      <td>2.210146</td>\n",
       "      <td>-513.736640</td>\n",
       "    </tr>\n",
       "    <tr>\n",
       "      <th>75%</th>\n",
       "      <td>6.669267</td>\n",
       "      <td>6.280691</td>\n",
       "      <td>8.667607</td>\n",
       "      <td>6.577663</td>\n",
       "      <td>10226.500457</td>\n",
       "    </tr>\n",
       "    <tr>\n",
       "      <th>max</th>\n",
       "      <td>22.521422</td>\n",
       "      <td>20.130833</td>\n",
       "      <td>17.316765</td>\n",
       "      <td>20.989196</td>\n",
       "      <td>34534.955255</td>\n",
       "    </tr>\n",
       "  </tbody>\n",
       "</table>\n",
       "</div>"
      ],
      "text/plain": [
       "              Open         High          Low        Close        Volume\n",
       "count  5094.000000  5094.000000  5094.000000  5094.000000   5094.000000\n",
       "mean     -0.008616    -0.006603    -0.013197    -0.009202     22.286330\n",
       "std      11.597437    10.750511    13.684042    11.536247  14557.355693\n",
       "min     -25.636086   -26.520436   -46.655356   -25.083118 -35905.398752\n",
       "25%      -6.213432    -6.863078    -8.514140    -6.951926 -11576.678563\n",
       "50%       2.283903     2.699136     3.168488     2.210146   -513.736640\n",
       "75%       6.669267     6.280691     8.667607     6.577663  10226.500457\n",
       "max      22.521422    20.130833    17.316765    20.989196  34534.955255"
      ]
     },
     "execution_count": 35,
     "metadata": {},
     "output_type": "execute_result"
    }
   ],
   "source": [
    "sdf.describe()"
   ]
  },
  {
   "cell_type": "code",
   "execution_count": 36,
   "metadata": {},
   "outputs": [
    {
     "name": "stdout",
     "output_type": "stream",
     "text": [
      "[ -1.49421837  -1.44716848  -1.39332267  -1.40218679 132.89974227]\n"
     ]
    },
    {
     "data": {
      "text/plain": [
       "array([[ 0.94173218,  0.84218124,  0.61539545,  0.59799575,  0.083212  ],\n",
       "       [ 0.48655464,  1.27770882,  1.05172017,  2.08212326,  0.10453018],\n",
       "       [ 1.89305329,  2.00817542,  1.55570566,  2.72037058, -0.08887086],\n",
       "       ...,\n",
       "       [-0.65531897, -1.82608069, -0.75113879, -1.32833825,  0.28433475],\n",
       "       [-1.31334711, -1.62375976, -0.5501619 , -2.17905108, -0.36419423],\n",
       "       [-2.12456827, -2.48917183, -1.98753474, -3.70655626, -0.28328824]])"
      ]
     },
     "execution_count": 36,
     "metadata": {},
     "output_type": "execute_result"
    }
   ],
   "source": [
    "# 표준정규화\n",
    "from sklearn.preprocessing import StandardScaler\n",
    "\n",
    "scaler = StandardScaler()\n",
    "scaler.fit(rdf)\n",
    "print(scaler.mean_)\n",
    "norm_rdf = scaler.transform(rdf)\n",
    "norm_rdf"
   ]
  },
  {
   "cell_type": "markdown",
   "metadata": {},
   "source": [
    "## 1. K-mean"
   ]
  },
  {
   "cell_type": "code",
   "execution_count": 37,
   "metadata": {},
   "outputs": [
    {
     "name": "stdout",
     "output_type": "stream",
     "text": [
      "[0 0 0 ... 1 1 1]\n"
     ]
    }
   ],
   "source": [
    "from sklearn.cluster import KMeans\n",
    "\n",
    "kmeans = KMeans(n_clusters=2, random_state=0).fit(norm_rdf)\n",
    "print(kmeans.labels_) # 분류된 라벨은 이렇게 kemans.labels_ 로 확인합니다."
   ]
  },
  {
   "cell_type": "code",
   "execution_count": 38,
   "metadata": {},
   "outputs": [
    {
     "name": "stdout",
     "output_type": "stream",
     "text": [
      "[0 1]\n",
      "[4278  816]\n"
     ]
    }
   ],
   "source": [
    "# 라벨은 몇번 그룹인지 뜻합니다. \n",
    "# return_counts=True 를 해서 몇개의 샘플이 몇번 그룹에 할당되었는지 확인해요\n",
    "lbl, cnt = np.unique(kmeans.labels_,return_counts=True) \n",
    "print(lbl) # 0번 그룹, 1번 그룹으로 나뉘어졌네요\n",
    "print(cnt)"
   ]
  },
  {
   "cell_type": "code",
   "execution_count": 39,
   "metadata": {},
   "outputs": [
    {
     "data": {
      "text/plain": [
       "['group:0-count:1078',\n",
       " 'group:1-count:100',\n",
       " 'group:2-count:1',\n",
       " 'group:3-count:107',\n",
       " 'group:4-count:13',\n",
       " 'group:5-count:224',\n",
       " 'group:6-count:409',\n",
       " 'group:7-count:32',\n",
       " 'group:8-count:1066',\n",
       " 'group:9-count:300',\n",
       " 'group:10-count:682',\n",
       " 'group:11-count:544',\n",
       " 'group:12-count:68',\n",
       " 'group:13-count:20',\n",
       " 'group:14-count:450']"
      ]
     },
     "execution_count": 39,
     "metadata": {},
     "output_type": "execute_result"
    }
   ],
   "source": [
    "from sklearn.cluster import KMeans\n",
    "\n",
    "kmeans = KMeans(n_clusters=15, random_state=0).fit(norm_rdf)\n",
    "lbl, cnt = np.unique(kmeans.labels_,return_counts=True,)\n",
    "['group:{}-count:{}'.format(group, count) for group, count in zip(lbl, cnt)]\n",
    "\\"
   ]
  },
  {
   "cell_type": "markdown",
   "metadata": {},
   "source": [
    "### ✔️1. 어떤 날들이 분류된건지 (원본 코스피 데이터에서 탐색)"
   ]
  },
  {
   "cell_type": "code",
   "execution_count": 42,
   "metadata": {},
   "outputs": [
    {
     "data": {
      "text/html": [
       "<div>\n",
       "<style scoped>\n",
       "    .dataframe tbody tr th:only-of-type {\n",
       "        vertical-align: middle;\n",
       "    }\n",
       "\n",
       "    .dataframe tbody tr th {\n",
       "        vertical-align: top;\n",
       "    }\n",
       "\n",
       "    .dataframe thead th {\n",
       "        text-align: right;\n",
       "    }\n",
       "</style>\n",
       "<table border=\"1\" class=\"dataframe\">\n",
       "  <thead>\n",
       "    <tr style=\"text-align: right;\">\n",
       "      <th></th>\n",
       "      <th>Date</th>\n",
       "      <th>Open</th>\n",
       "      <th>High</th>\n",
       "      <th>Low</th>\n",
       "      <th>Close</th>\n",
       "      <th>Adj Close</th>\n",
       "      <th>Volume</th>\n",
       "    </tr>\n",
       "  </thead>\n",
       "  <tbody>\n",
       "    <tr>\n",
       "      <th>4961</th>\n",
       "      <td>2020-05-06</td>\n",
       "      <td>8928.5</td>\n",
       "      <td>9056.5</td>\n",
       "      <td>1903.0</td>\n",
       "      <td>8952.0</td>\n",
       "      <td>8952.0</td>\n",
       "      <td>414045.0</td>\n",
       "    </tr>\n",
       "  </tbody>\n",
       "</table>\n",
       "</div>"
      ],
      "text/plain": [
       "           Date    Open    High     Low   Close  Adj Close    Volume\n",
       "4961 2020-05-06  8928.5  9056.5  1903.0  8952.0     8952.0  414045.0"
      ]
     },
     "execution_count": 42,
     "metadata": {},
     "output_type": "execute_result"
    }
   ],
   "source": [
    "# 꼭 여러분들의 분류 결과에서 특이 그룹으로 분류된 그룹 번호로 바꿔 주세요. \n",
    "df[(kmeans.labels_==2)]"
   ]
  },
  {
   "cell_type": "code",
   "execution_count": 43,
   "metadata": {},
   "outputs": [
    {
     "data": {
      "text/html": [
       "<div>\n",
       "<style scoped>\n",
       "    .dataframe tbody tr th:only-of-type {\n",
       "        vertical-align: middle;\n",
       "    }\n",
       "\n",
       "    .dataframe tbody tr th {\n",
       "        vertical-align: top;\n",
       "    }\n",
       "\n",
       "    .dataframe thead th {\n",
       "        text-align: right;\n",
       "    }\n",
       "</style>\n",
       "<table border=\"1\" class=\"dataframe\">\n",
       "  <thead>\n",
       "    <tr style=\"text-align: right;\">\n",
       "      <th></th>\n",
       "      <th>Date</th>\n",
       "      <th>Open</th>\n",
       "      <th>High</th>\n",
       "      <th>Low</th>\n",
       "      <th>Close</th>\n",
       "      <th>Adj Close</th>\n",
       "      <th>Volume</th>\n",
       "    </tr>\n",
       "  </thead>\n",
       "  <tbody>\n",
       "    <tr>\n",
       "      <th>4917</th>\n",
       "      <td>2020-03-13</td>\n",
       "      <td>7100.000000</td>\n",
       "      <td>7978.000000</td>\n",
       "      <td>6942.500000</td>\n",
       "      <td>7915.750000</td>\n",
       "      <td>7915.750000</td>\n",
       "      <td>584274.0</td>\n",
       "    </tr>\n",
       "    <tr>\n",
       "      <th>4918</th>\n",
       "      <td>2020-03-15</td>\n",
       "      <td>7100.000000</td>\n",
       "      <td>7978.000000</td>\n",
       "      <td>6942.500000</td>\n",
       "      <td>7215.250000</td>\n",
       "      <td>7215.250000</td>\n",
       "      <td>578813.0</td>\n",
       "    </tr>\n",
       "    <tr>\n",
       "      <th>4919</th>\n",
       "      <td>2020-03-16</td>\n",
       "      <td>7903.000000</td>\n",
       "      <td>7905.250000</td>\n",
       "      <td>6927.000000</td>\n",
       "      <td>7057.500000</td>\n",
       "      <td>7057.500000</td>\n",
       "      <td>307368.0</td>\n",
       "    </tr>\n",
       "    <tr>\n",
       "      <th>4920</th>\n",
       "      <td>2020-03-17</td>\n",
       "      <td>7053.000000</td>\n",
       "      <td>7552.250000</td>\n",
       "      <td>6948.750000</td>\n",
       "      <td>7405.250000</td>\n",
       "      <td>7405.250000</td>\n",
       "      <td>317501.0</td>\n",
       "    </tr>\n",
       "    <tr>\n",
       "      <th>4921</th>\n",
       "      <td>2020-03-18</td>\n",
       "      <td>7386.000000</td>\n",
       "      <td>7392.250000</td>\n",
       "      <td>6830.000000</td>\n",
       "      <td>7225.250000</td>\n",
       "      <td>7225.250000</td>\n",
       "      <td>156283.0</td>\n",
       "    </tr>\n",
       "    <tr>\n",
       "      <th>4922</th>\n",
       "      <td>2020-03-19</td>\n",
       "      <td>7251.750000</td>\n",
       "      <td>7521.500000</td>\n",
       "      <td>6894.250000</td>\n",
       "      <td>7293.500000</td>\n",
       "      <td>7293.500000</td>\n",
       "      <td>115519.0</td>\n",
       "    </tr>\n",
       "    <tr>\n",
       "      <th>4923</th>\n",
       "      <td>2020-03-20</td>\n",
       "      <td>7195.000000</td>\n",
       "      <td>7649.000000</td>\n",
       "      <td>7153.500000</td>\n",
       "      <td>7417.979980</td>\n",
       "      <td>7417.979980</td>\n",
       "      <td>562616.0</td>\n",
       "    </tr>\n",
       "    <tr>\n",
       "      <th>4924</th>\n",
       "      <td>2020-03-22</td>\n",
       "      <td>6798.000000</td>\n",
       "      <td>6798.000000</td>\n",
       "      <td>6628.750000</td>\n",
       "      <td>6688.750000</td>\n",
       "      <td>6688.750000</td>\n",
       "      <td>321230.0</td>\n",
       "    </tr>\n",
       "    <tr>\n",
       "      <th>4925</th>\n",
       "      <td>2020-03-23</td>\n",
       "      <td>6798.000000</td>\n",
       "      <td>7316.250000</td>\n",
       "      <td>6628.750000</td>\n",
       "      <td>6984.500000</td>\n",
       "      <td>6984.500000</td>\n",
       "      <td>633237.0</td>\n",
       "    </tr>\n",
       "    <tr>\n",
       "      <th>4926</th>\n",
       "      <td>2020-03-24</td>\n",
       "      <td>7005.750000</td>\n",
       "      <td>7572.250000</td>\n",
       "      <td>7005.750000</td>\n",
       "      <td>7554.750000</td>\n",
       "      <td>7554.750000</td>\n",
       "      <td>556553.0</td>\n",
       "    </tr>\n",
       "    <tr>\n",
       "      <th>5073</th>\n",
       "      <td>2020-09-21</td>\n",
       "      <td>10920.000000</td>\n",
       "      <td>11009.799805</td>\n",
       "      <td>10656.500000</td>\n",
       "      <td>10989.000000</td>\n",
       "      <td>10989.000000</td>\n",
       "      <td>727984.0</td>\n",
       "    </tr>\n",
       "    <tr>\n",
       "      <th>5076</th>\n",
       "      <td>2020-09-24</td>\n",
       "      <td>10803.500000</td>\n",
       "      <td>11011.799805</td>\n",
       "      <td>10660.200195</td>\n",
       "      <td>10891.799805</td>\n",
       "      <td>10891.799805</td>\n",
       "      <td>791934.0</td>\n",
       "    </tr>\n",
       "    <tr>\n",
       "      <th>5077</th>\n",
       "      <td>2020-09-25</td>\n",
       "      <td>10914.200195</td>\n",
       "      <td>11166.200195</td>\n",
       "      <td>10813.799805</td>\n",
       "      <td>11136.500000</td>\n",
       "      <td>11136.500000</td>\n",
       "      <td>600725.0</td>\n",
       "    </tr>\n",
       "  </tbody>\n",
       "</table>\n",
       "</div>"
      ],
      "text/plain": [
       "           Date          Open          High           Low         Close  \\\n",
       "4917 2020-03-13   7100.000000   7978.000000   6942.500000   7915.750000   \n",
       "4918 2020-03-15   7100.000000   7978.000000   6942.500000   7215.250000   \n",
       "4919 2020-03-16   7903.000000   7905.250000   6927.000000   7057.500000   \n",
       "4920 2020-03-17   7053.000000   7552.250000   6948.750000   7405.250000   \n",
       "4921 2020-03-18   7386.000000   7392.250000   6830.000000   7225.250000   \n",
       "4922 2020-03-19   7251.750000   7521.500000   6894.250000   7293.500000   \n",
       "4923 2020-03-20   7195.000000   7649.000000   7153.500000   7417.979980   \n",
       "4924 2020-03-22   6798.000000   6798.000000   6628.750000   6688.750000   \n",
       "4925 2020-03-23   6798.000000   7316.250000   6628.750000   6984.500000   \n",
       "4926 2020-03-24   7005.750000   7572.250000   7005.750000   7554.750000   \n",
       "5073 2020-09-21  10920.000000  11009.799805  10656.500000  10989.000000   \n",
       "5076 2020-09-24  10803.500000  11011.799805  10660.200195  10891.799805   \n",
       "5077 2020-09-25  10914.200195  11166.200195  10813.799805  11136.500000   \n",
       "\n",
       "         Adj Close    Volume  \n",
       "4917   7915.750000  584274.0  \n",
       "4918   7215.250000  578813.0  \n",
       "4919   7057.500000  307368.0  \n",
       "4920   7405.250000  317501.0  \n",
       "4921   7225.250000  156283.0  \n",
       "4922   7293.500000  115519.0  \n",
       "4923   7417.979980  562616.0  \n",
       "4924   6688.750000  321230.0  \n",
       "4925   6984.500000  633237.0  \n",
       "4926   7554.750000  556553.0  \n",
       "5073  10989.000000  727984.0  \n",
       "5076  10891.799805  791934.0  \n",
       "5077  11136.500000  600725.0  "
      ]
     },
     "execution_count": 43,
     "metadata": {},
     "output_type": "execute_result"
    }
   ],
   "source": [
    "df[(kmeans.labels_==4)]"
   ]
  },
  {
   "cell_type": "code",
   "execution_count": 45,
   "metadata": {},
   "outputs": [
    {
     "data": {
      "text/html": [
       "<div>\n",
       "<style scoped>\n",
       "    .dataframe tbody tr th:only-of-type {\n",
       "        vertical-align: middle;\n",
       "    }\n",
       "\n",
       "    .dataframe tbody tr th {\n",
       "        vertical-align: top;\n",
       "    }\n",
       "\n",
       "    .dataframe thead th {\n",
       "        text-align: right;\n",
       "    }\n",
       "</style>\n",
       "<table border=\"1\" class=\"dataframe\">\n",
       "  <thead>\n",
       "    <tr style=\"text-align: right;\">\n",
       "      <th></th>\n",
       "      <th>Date</th>\n",
       "      <th>Open</th>\n",
       "      <th>High</th>\n",
       "      <th>Low</th>\n",
       "      <th>Close</th>\n",
       "      <th>Adj Close</th>\n",
       "      <th>Volume</th>\n",
       "    </tr>\n",
       "  </thead>\n",
       "  <tbody>\n",
       "    <tr>\n",
       "      <th>4957</th>\n",
       "      <td>2020-05-01</td>\n",
       "      <td>8847.00</td>\n",
       "      <td>8879.00</td>\n",
       "      <td>8672.00</td>\n",
       "      <td>8718.00</td>\n",
       "      <td>8718.00</td>\n",
       "      <td>414560.0</td>\n",
       "    </tr>\n",
       "    <tr>\n",
       "      <th>4958</th>\n",
       "      <td>2020-05-03</td>\n",
       "      <td>8624.00</td>\n",
       "      <td>8642.25</td>\n",
       "      <td>8562.00</td>\n",
       "      <td>8579.50</td>\n",
       "      <td>8579.50</td>\n",
       "      <td>955357.0</td>\n",
       "    </tr>\n",
       "    <tr>\n",
       "      <th>4959</th>\n",
       "      <td>2020-05-04</td>\n",
       "      <td>8624.00</td>\n",
       "      <td>8828.00</td>\n",
       "      <td>8556.25</td>\n",
       "      <td>8795.50</td>\n",
       "      <td>8795.50</td>\n",
       "      <td>381914.0</td>\n",
       "    </tr>\n",
       "    <tr>\n",
       "      <th>4960</th>\n",
       "      <td>2020-05-05</td>\n",
       "      <td>8806.25</td>\n",
       "      <td>9020.00</td>\n",
       "      <td>8798.50</td>\n",
       "      <td>8924.25</td>\n",
       "      <td>8924.25</td>\n",
       "      <td>367233.0</td>\n",
       "    </tr>\n",
       "    <tr>\n",
       "      <th>4961</th>\n",
       "      <td>2020-05-06</td>\n",
       "      <td>8928.50</td>\n",
       "      <td>9056.50</td>\n",
       "      <td>1903.00</td>\n",
       "      <td>8952.00</td>\n",
       "      <td>8952.00</td>\n",
       "      <td>414045.0</td>\n",
       "    </tr>\n",
       "    <tr>\n",
       "      <th>4962</th>\n",
       "      <td>2020-05-07</td>\n",
       "      <td>8947.50</td>\n",
       "      <td>9126.00</td>\n",
       "      <td>8930.25</td>\n",
       "      <td>9107.75</td>\n",
       "      <td>9107.75</td>\n",
       "      <td>383884.0</td>\n",
       "    </tr>\n",
       "    <tr>\n",
       "      <th>4963</th>\n",
       "      <td>2020-05-08</td>\n",
       "      <td>9115.00</td>\n",
       "      <td>9238.00</td>\n",
       "      <td>9103.25</td>\n",
       "      <td>9218.25</td>\n",
       "      <td>9218.25</td>\n",
       "      <td>362315.0</td>\n",
       "    </tr>\n",
       "    <tr>\n",
       "      <th>4964</th>\n",
       "      <td>2020-05-10</td>\n",
       "      <td>9194.75</td>\n",
       "      <td>9257.25</td>\n",
       "      <td>9174.75</td>\n",
       "      <td>9249.00</td>\n",
       "      <td>9249.00</td>\n",
       "      <td>673663.0</td>\n",
       "    </tr>\n",
       "  </tbody>\n",
       "</table>\n",
       "</div>"
      ],
      "text/plain": [
       "           Date     Open     High      Low    Close  Adj Close    Volume\n",
       "4957 2020-05-01  8847.00  8879.00  8672.00  8718.00    8718.00  414560.0\n",
       "4958 2020-05-03  8624.00  8642.25  8562.00  8579.50    8579.50  955357.0\n",
       "4959 2020-05-04  8624.00  8828.00  8556.25  8795.50    8795.50  381914.0\n",
       "4960 2020-05-05  8806.25  9020.00  8798.50  8924.25    8924.25  367233.0\n",
       "4961 2020-05-06  8928.50  9056.50  1903.00  8952.00    8952.00  414045.0\n",
       "4962 2020-05-07  8947.50  9126.00  8930.25  9107.75    9107.75  383884.0\n",
       "4963 2020-05-08  9115.00  9238.00  9103.25  9218.25    9218.25  362315.0\n",
       "4964 2020-05-10  9194.75  9257.25  9174.75  9249.00    9249.00  673663.0"
      ]
     },
     "execution_count": 45,
     "metadata": {},
     "output_type": "execute_result"
    }
   ],
   "source": [
    "# 2020-05-06 주변 정황\n",
    "df.iloc[4957:4965]"
   ]
  },
  {
   "cell_type": "markdown",
   "metadata": {},
   "source": [
    "### ✔️2. 각 그룹은 어떤 특징을 갖고 있는지"
   ]
  },
  {
   "cell_type": "code",
   "execution_count": 48,
   "metadata": {},
   "outputs": [
    {
     "data": {
      "text/html": [
       "<div>\n",
       "<style scoped>\n",
       "    .dataframe tbody tr th:only-of-type {\n",
       "        vertical-align: middle;\n",
       "    }\n",
       "\n",
       "    .dataframe tbody tr th {\n",
       "        vertical-align: top;\n",
       "    }\n",
       "\n",
       "    .dataframe thead th {\n",
       "        text-align: right;\n",
       "    }\n",
       "</style>\n",
       "<table border=\"1\" class=\"dataframe\">\n",
       "  <thead>\n",
       "    <tr style=\"text-align: right;\">\n",
       "      <th></th>\n",
       "      <th>Open</th>\n",
       "      <th>High</th>\n",
       "      <th>Low</th>\n",
       "      <th>Close</th>\n",
       "      <th>Volume</th>\n",
       "    </tr>\n",
       "  </thead>\n",
       "  <tbody>\n",
       "    <tr>\n",
       "      <th>0</th>\n",
       "      <td>0.200505</td>\n",
       "      <td>0.201368</td>\n",
       "      <td>0.195809</td>\n",
       "      <td>0.239635</td>\n",
       "      <td>-0.415852</td>\n",
       "    </tr>\n",
       "    <tr>\n",
       "      <th>1</th>\n",
       "      <td>-2.105660</td>\n",
       "      <td>-2.130475</td>\n",
       "      <td>-1.551833</td>\n",
       "      <td>-2.044875</td>\n",
       "      <td>-0.262899</td>\n",
       "    </tr>\n",
       "    <tr>\n",
       "      <th>2</th>\n",
       "      <td>-0.370669</td>\n",
       "      <td>-0.377400</td>\n",
       "      <td>-44.383381</td>\n",
       "      <td>-0.482650</td>\n",
       "      <td>-0.622880</td>\n",
       "    </tr>\n",
       "    <tr>\n",
       "      <th>3</th>\n",
       "      <td>2.336942</td>\n",
       "      <td>2.414856</td>\n",
       "      <td>1.916636</td>\n",
       "      <td>2.372959</td>\n",
       "      <td>-0.223189</td>\n",
       "    </tr>\n",
       "    <tr>\n",
       "      <th>4</th>\n",
       "      <td>-8.262590</td>\n",
       "      <td>-7.541295</td>\n",
       "      <td>-6.406347</td>\n",
       "      <td>-7.407110</td>\n",
       "      <td>-1.791962</td>\n",
       "    </tr>\n",
       "    <tr>\n",
       "      <th>5</th>\n",
       "      <td>0.100704</td>\n",
       "      <td>0.056806</td>\n",
       "      <td>-0.220629</td>\n",
       "      <td>-0.270130</td>\n",
       "      <td>1.979857</td>\n",
       "    </tr>\n",
       "    <tr>\n",
       "      <th>6</th>\n",
       "      <td>0.911994</td>\n",
       "      <td>0.940576</td>\n",
       "      <td>0.796475</td>\n",
       "      <td>0.987251</td>\n",
       "      <td>-0.532713</td>\n",
       "    </tr>\n",
       "    <tr>\n",
       "      <th>7</th>\n",
       "      <td>-4.254156</td>\n",
       "      <td>-4.574573</td>\n",
       "      <td>-3.233543</td>\n",
       "      <td>-4.260124</td>\n",
       "      <td>0.491289</td>\n",
       "    </tr>\n",
       "    <tr>\n",
       "      <th>8</th>\n",
       "      <td>-0.131210</td>\n",
       "      <td>-0.118335</td>\n",
       "      <td>-0.097377</td>\n",
       "      <td>-0.119356</td>\n",
       "      <td>0.376102</td>\n",
       "    </tr>\n",
       "    <tr>\n",
       "      <th>9</th>\n",
       "      <td>0.112725</td>\n",
       "      <td>0.107841</td>\n",
       "      <td>0.145244</td>\n",
       "      <td>0.168976</td>\n",
       "      <td>-1.904008</td>\n",
       "    </tr>\n",
       "    <tr>\n",
       "      <th>10</th>\n",
       "      <td>0.458262</td>\n",
       "      <td>0.487913</td>\n",
       "      <td>0.320926</td>\n",
       "      <td>0.411189</td>\n",
       "      <td>0.434731</td>\n",
       "    </tr>\n",
       "    <tr>\n",
       "      <th>11</th>\n",
       "      <td>-0.459431</td>\n",
       "      <td>-0.494467</td>\n",
       "      <td>-0.281101</td>\n",
       "      <td>-0.406234</td>\n",
       "      <td>-0.574165</td>\n",
       "    </tr>\n",
       "    <tr>\n",
       "      <th>12</th>\n",
       "      <td>-1.549792</td>\n",
       "      <td>-1.696651</td>\n",
       "      <td>-1.623727</td>\n",
       "      <td>-2.095759</td>\n",
       "      <td>2.859529</td>\n",
       "    </tr>\n",
       "    <tr>\n",
       "      <th>13</th>\n",
       "      <td>6.027197</td>\n",
       "      <td>6.084572</td>\n",
       "      <td>4.735875</td>\n",
       "      <td>6.001044</td>\n",
       "      <td>-0.221012</td>\n",
       "    </tr>\n",
       "    <tr>\n",
       "      <th>14</th>\n",
       "      <td>-0.838297</td>\n",
       "      <td>-0.865335</td>\n",
       "      <td>-0.653933</td>\n",
       "      <td>-0.835319</td>\n",
       "      <td>0.606767</td>\n",
       "    </tr>\n",
       "  </tbody>\n",
       "</table>\n",
       "</div>"
      ],
      "text/plain": [
       "        Open      High        Low     Close    Volume\n",
       "0   0.200505  0.201368   0.195809  0.239635 -0.415852\n",
       "1  -2.105660 -2.130475  -1.551833 -2.044875 -0.262899\n",
       "2  -0.370669 -0.377400 -44.383381 -0.482650 -0.622880\n",
       "3   2.336942  2.414856   1.916636  2.372959 -0.223189\n",
       "4  -8.262590 -7.541295  -6.406347 -7.407110 -1.791962\n",
       "5   0.100704  0.056806  -0.220629 -0.270130  1.979857\n",
       "6   0.911994  0.940576   0.796475  0.987251 -0.532713\n",
       "7  -4.254156 -4.574573  -3.233543 -4.260124  0.491289\n",
       "8  -0.131210 -0.118335  -0.097377 -0.119356  0.376102\n",
       "9   0.112725  0.107841   0.145244  0.168976 -1.904008\n",
       "10  0.458262  0.487913   0.320926  0.411189  0.434731\n",
       "11 -0.459431 -0.494467  -0.281101 -0.406234 -0.574165\n",
       "12 -1.549792 -1.696651  -1.623727 -2.095759  2.859529\n",
       "13  6.027197  6.084572   4.735875  6.001044 -0.221012\n",
       "14 -0.838297 -0.865335  -0.653933 -0.835319  0.606767"
      ]
     },
     "execution_count": 48,
     "metadata": {},
     "output_type": "execute_result"
    }
   ],
   "source": [
    "# 각 그룹의 중심부는 어떤 값을 가지고 있는지 확인해보겠습니다.\n",
    "pd.DataFrame(kmeans.cluster_centers_, columns=['Open','High','Low','Close','Volume'])"
   ]
  },
  {
   "cell_type": "markdown",
   "metadata": {},
   "source": [
    "### ✔️3. 왜 이상치로 분류된걸까?"
   ]
  },
  {
   "cell_type": "code",
   "execution_count": 47,
   "metadata": {},
   "outputs": [
    {
     "data": {
      "image/png": "[encoded data removed]",
      "text/plain": [
       "<Figure size 1080x648 with 1 Axes>"
      ]
     },
     "metadata": {
      "needs_background": "light"
     },
     "output_type": "display_data"
    }
   ],
   "source": [
    "fig = plt.figure(figsize=(15,9))\n",
    "ax = fig.add_subplot(111)\n",
    "df.Close.plot(ax=ax, label='Observed', legend=True)\n",
    "tdf.Close.plot(ax=ax, label='Trend', legend=True)\n",
    "rdf.Close.plot(ax=ax,label='Resid', legend=True)\n",
    "plt.show()"
   ]
  },
  {
   "cell_type": "markdown",
   "metadata": {},
   "source": [
    "예상치보다 많이 올라서 이상치로 분류된 것 같습니다.\n",
    "부럽네요."
   ]
  },
  {
   "cell_type": "markdown",
   "metadata": {},
   "source": [
    "## 2. DBSCAN"
   ]
  },
  {
   "cell_type": "code",
   "execution_count": 49,
   "metadata": {},
   "outputs": [
    {
     "data": {
      "text/plain": [
       "DBSCAN(eps=0.7, min_samples=2)"
      ]
     },
     "execution_count": 49,
     "metadata": {},
     "output_type": "execute_result"
    }
   ],
   "source": [
    "from sklearn.cluster import DBSCAN\n",
    "clustering = DBSCAN(eps=0.7, min_samples=2).fit(norm_rdf)\n",
    "clustering"
   ]
  },
  {
   "cell_type": "code",
   "execution_count": 50,
   "metadata": {},
   "outputs": [
    {
     "name": "stdout",
     "output_type": "stream",
     "text": [
      "[ 0  0  0 ...  0 -1 26]\n"
     ]
    }
   ],
   "source": [
    "# 분류된 라벨들은 이렇게 확인할 수 있어요\n",
    "print(clustering.labels_)"
   ]
  },
  {
   "cell_type": "code",
   "execution_count": 51,
   "metadata": {},
   "outputs": [
    {
     "data": {
      "text/plain": [
       "['group:-1-count:194',\n",
       " 'group:0-count:4832',\n",
       " 'group:1-count:3',\n",
       " 'group:2-count:13',\n",
       " 'group:3-count:2',\n",
       " 'group:4-count:2',\n",
       " 'group:5-count:3',\n",
       " 'group:6-count:2',\n",
       " 'group:7-count:3',\n",
       " 'group:8-count:2',\n",
       " 'group:9-count:2',\n",
       " 'group:10-count:2',\n",
       " 'group:11-count:2',\n",
       " 'group:12-count:2',\n",
       " 'group:13-count:2',\n",
       " 'group:14-count:2',\n",
       " 'group:15-count:2',\n",
       " 'group:16-count:2',\n",
       " 'group:17-count:2',\n",
       " 'group:18-count:2',\n",
       " 'group:19-count:2',\n",
       " 'group:20-count:2',\n",
       " 'group:21-count:2',\n",
       " 'group:22-count:2',\n",
       " 'group:23-count:4',\n",
       " 'group:24-count:2',\n",
       " 'group:25-count:2',\n",
       " 'group:26-count:2']"
      ]
     },
     "execution_count": 51,
     "metadata": {},
     "output_type": "execute_result"
    }
   ],
   "source": [
    "lbl, cnt = np.unique(clustering.labels_,return_counts=True)\n",
    "['group:{}-count:{}'.format(group, count) for group, count in zip(lbl, cnt)]"
   ]
  },
  {
   "cell_type": "markdown",
   "metadata": {},
   "source": [
    "## Step 4. LSTM 오토인코더로 이상치 찾기\n"
   ]
  },
  {
   "cell_type": "code",
   "execution_count": 52,
   "metadata": {},
   "outputs": [],
   "source": [
    "# 필요한 라이브러리를 불러옵니다\n",
    "\n",
    "import tensorflow as tf\n",
    "from tensorflow.keras.preprocessing.sequence import TimeseriesGenerator\n",
    "from tensorflow.keras.models import Sequential\n",
    "from tensorflow.keras.layers import Dense, Dropout, LSTM, RepeatVector, TimeDistributed\n",
    "from tensorflow.keras.losses import Huber\n",
    "from tensorflow.keras.callbacks import ModelCheckpoint, EarlyStopping"
   ]
  },
  {
   "cell_type": "code",
   "execution_count": 53,
   "metadata": {},
   "outputs": [],
   "source": [
    "# 모델 재현성을 위해 난수 시드설정을 해줍니다\n",
    "tf.random.set_seed(777)\n",
    "np.random.seed(777)"
   ]
  },
  {
   "cell_type": "markdown",
   "metadata": {},
   "source": [
    "### 데이터 전처리"
   ]
  },
  {
   "cell_type": "code",
   "execution_count": 54,
   "metadata": {},
   "outputs": [],
   "source": [
    "from sklearn.preprocessing import StandardScaler\n",
    "\n",
    "# 데이터 전처리 - 하이퍼 파라미터\n",
    "window_size = 10\n",
    "batch_size = 32\n",
    "features = ['Open','High','Low','Close','Volume']\n",
    "n_features = len(features)\n",
    "TRAIN_SIZE = int(len(df)*0.7)\n",
    "\n",
    "# 데이터 전처리\n",
    "# 표준정규분포화합니다.\n",
    "\n",
    "scaler = StandardScaler()\n",
    "scaler = scaler.fit(df.loc[:TRAIN_SIZE,features].values)\n",
    "scaled = scaler.transform(df[features].values)"
   ]
  },
  {
   "cell_type": "code",
   "execution_count": 55,
   "metadata": {},
   "outputs": [
    {
     "name": "stdout",
     "output_type": "stream",
     "text": [
      "(32, 10, 5)\n",
      "(32, 5)\n"
     ]
    }
   ],
   "source": [
    "# keras TimeseriesGenerator 를 이용해서 간편하게 데이터 셋을 만듭니다\n",
    "\n",
    "train_gen = TimeseriesGenerator(\n",
    "    data = scaled,\n",
    "    targets = scaled,\n",
    "    length = window_size,\n",
    "    stride=1,\n",
    "    sampling_rate=1,\n",
    "    batch_size= batch_size,\n",
    "    shuffle=False,\n",
    "    start_index=0,\n",
    "    end_index=None,\n",
    ")\n",
    "\n",
    "valid_gen = TimeseriesGenerator(\n",
    "    data = scaled,\n",
    "    targets = scaled,\n",
    "    length = window_size,\n",
    "    stride=1,\n",
    "    sampling_rate=1,\n",
    "    batch_size=batch_size,\n",
    "    shuffle=False,\n",
    "    start_index=TRAIN_SIZE,\n",
    "    end_index=None,\n",
    ")\n",
    "\n",
    "print(train_gen[0][0].shape)\n",
    "print(train_gen[0][1].shape)"
   ]
  },
  {
   "cell_type": "markdown",
   "metadata": {},
   "source": [
    "### 모델 만들기"
   ]
  },
  {
   "cell_type": "code",
   "execution_count": 56,
   "metadata": {},
   "outputs": [
    {
     "name": "stdout",
     "output_type": "stream",
     "text": [
      "WARNING:tensorflow:Layer lstm will not use cuDNN kernel since it doesn't meet the cuDNN kernel criteria. It will use generic GPU kernel as fallback when running on GPU\n",
      "WARNING:tensorflow:Layer lstm_1 will not use cuDNN kernel since it doesn't meet the cuDNN kernel criteria. It will use generic GPU kernel as fallback when running on GPU\n",
      "WARNING:tensorflow:Layer lstm_2 will not use cuDNN kernel since it doesn't meet the cuDNN kernel criteria. It will use generic GPU kernel as fallback when running on GPU\n",
      "WARNING:tensorflow:Layer lstm_3 will not use cuDNN kernel since it doesn't meet the cuDNN kernel criteria. It will use generic GPU kernel as fallback when running on GPU\n",
      "Model: \"sequential\"\n",
      "_________________________________________________________________\n",
      "Layer (type)                 Output Shape              Param #   \n",
      "=================================================================\n",
      "lstm (LSTM)                  (None, 10, 64)            17920     \n",
      "_________________________________________________________________\n",
      "lstm_1 (LSTM)                (None, 16)                5184      \n",
      "_________________________________________________________________\n",
      "repeat_vector (RepeatVector) (None, 10, 16)            0         \n",
      "_________________________________________________________________\n",
      "lstm_2 (LSTM)                (None, 10, 16)            2112      \n",
      "_________________________________________________________________\n",
      "lstm_3 (LSTM)                (None, 64)                20736     \n",
      "_________________________________________________________________\n",
      "dense (Dense)                (None, 5)                 325       \n",
      "=================================================================\n",
      "Total params: 46,277\n",
      "Trainable params: 46,277\n",
      "Non-trainable params: 0\n",
      "_________________________________________________________________\n"
     ]
    }
   ],
   "source": [
    "model = Sequential([\n",
    "    # >> 인코더 시작\n",
    "    LSTM(64, activation='relu', return_sequences=True, \n",
    "         input_shape=(window_size, n_features)),\n",
    "    LSTM(16, activation='relu', return_sequences=False),\n",
    "    ## << 인코더 끝\n",
    "    ## >> Bottleneck\n",
    "    RepeatVector(window_size),\n",
    "    ## << Bottleneck\n",
    "    ## >> 디코더 시작\n",
    "    LSTM(16, activation='relu', return_sequences=True),\n",
    "    LSTM(64, activation='relu', return_sequences=False),\n",
    "    Dense(n_features)\n",
    "    ## << 디코더 끝\n",
    "])\n",
    "\n",
    "model.summary()"
   ]
  },
  {
   "cell_type": "code",
   "execution_count": 57,
   "metadata": {},
   "outputs": [],
   "source": [
    "# 체크포인트\n",
    "# 학습을 진행하며 validation 결과가 가장 좋은 모델을 저장해둠\n",
    "import os\n",
    "\n",
    "checkpoint_path = os.getenv('HOME')+'/aiffel/anomaly_detection/kospi/mymodel.ckpt'\n",
    "checkpoint = ModelCheckpoint(checkpoint_path, \n",
    "                             save_weights_only=True, \n",
    "                             save_best_only=True, \n",
    "                             monitor='val_loss',\n",
    "                             verbose=1)\n",
    "\n",
    "# 얼리스탑\n",
    "# 학습을 진행하며 validation 결과가 나빠지면 스톱. patience 횟수만큼은 참고 지켜본다\n",
    "\n",
    "early_stop = EarlyStopping(monitor='val_loss', patience=5)\n",
    "\n",
    "model.compile(loss='mae', optimizer='adam',metrics=[\"mae\"])"
   ]
  },
  {
   "cell_type": "code",
   "execution_count": 58,
   "metadata": {},
   "outputs": [
    {
     "name": "stdout",
     "output_type": "stream",
     "text": [
      "Epoch 1/50\n",
      "159/159 [==============================] - ETA: 0s - loss: 1.2412 - mae: 1.2412\n",
      "Epoch 00001: val_loss improved from inf to 0.71230, saving model to /home/aiffel0048/aiffel/anomaly_detection/kospi/mymodel.ckpt\n",
      "159/159 [==============================] - 5s 29ms/step - loss: 1.2412 - mae: 1.2412 - val_loss: 0.7123 - val_mae: 0.7123\n",
      "Epoch 2/50\n",
      "158/159 [============================>.] - ETA: 0s - loss: 0.4879 - mae: 0.4879\n",
      "Epoch 00002: val_loss improved from 0.71230 to 0.68657, saving model to /home/aiffel0048/aiffel/anomaly_detection/kospi/mymodel.ckpt\n",
      "159/159 [==============================] - 4s 27ms/step - loss: 0.4881 - mae: 0.4881 - val_loss: 0.6866 - val_mae: 0.6866\n",
      "Epoch 3/50\n",
      "159/159 [==============================] - ETA: 0s - loss: 0.4092 - mae: 0.4092\n",
      "Epoch 00003: val_loss improved from 0.68657 to 0.52488, saving model to /home/aiffel0048/aiffel/anomaly_detection/kospi/mymodel.ckpt\n",
      "159/159 [==============================] - 4s 28ms/step - loss: 0.4092 - mae: 0.4092 - val_loss: 0.5249 - val_mae: 0.5249\n",
      "Epoch 4/50\n",
      "159/159 [==============================] - ETA: 0s - loss: 0.3862 - mae: 0.3862\n",
      "Epoch 00004: val_loss improved from 0.52488 to 0.51547, saving model to /home/aiffel0048/aiffel/anomaly_detection/kospi/mymodel.ckpt\n",
      "159/159 [==============================] - 4s 27ms/step - loss: 0.3862 - mae: 0.3862 - val_loss: 0.5155 - val_mae: 0.5155\n",
      "Epoch 5/50\n",
      "159/159 [==============================] - ETA: 0s - loss: 0.3027 - mae: 0.3027\n",
      "Epoch 00005: val_loss did not improve from 0.51547\n",
      "159/159 [==============================] - 4s 27ms/step - loss: 0.3027 - mae: 0.3027 - val_loss: 0.6963 - val_mae: 0.6963\n",
      "Epoch 6/50\n",
      "159/159 [==============================] - ETA: 0s - loss: 0.3543 - mae: 0.3543\n",
      "Epoch 00006: val_loss did not improve from 0.51547\n",
      "159/159 [==============================] - 4s 27ms/step - loss: 0.3543 - mae: 0.3543 - val_loss: 0.5169 - val_mae: 0.5169\n",
      "Epoch 7/50\n",
      "159/159 [==============================] - ETA: 0s - loss: 0.3621 - mae: 0.3621\n",
      "Epoch 00007: val_loss improved from 0.51547 to 0.43368, saving model to /home/aiffel0048/aiffel/anomaly_detection/kospi/mymodel.ckpt\n",
      "159/159 [==============================] - 4s 28ms/step - loss: 0.3621 - mae: 0.3621 - val_loss: 0.4337 - val_mae: 0.4337\n",
      "Epoch 8/50\n",
      "158/159 [============================>.] - ETA: 0s - loss: 0.3091 - mae: 0.3091\n",
      "Epoch 00008: val_loss did not improve from 0.43368\n",
      "159/159 [==============================] - 4s 28ms/step - loss: 0.3091 - mae: 0.3091 - val_loss: 0.8017 - val_mae: 0.8017\n",
      "Epoch 9/50\n",
      "159/159 [==============================] - ETA: 0s - loss: 0.3936 - mae: 0.3936\n",
      "Epoch 00009: val_loss improved from 0.43368 to 0.43188, saving model to /home/aiffel0048/aiffel/anomaly_detection/kospi/mymodel.ckpt\n",
      "159/159 [==============================] - 4s 27ms/step - loss: 0.3936 - mae: 0.3936 - val_loss: 0.4319 - val_mae: 0.4319\n",
      "Epoch 10/50\n",
      "158/159 [============================>.] - ETA: 0s - loss: 0.3229 - mae: 0.3229\n",
      "Epoch 00010: val_loss did not improve from 0.43188\n",
      "159/159 [==============================] - 4s 28ms/step - loss: 0.3217 - mae: 0.3217 - val_loss: 0.4946 - val_mae: 0.4946\n",
      "Epoch 11/50\n",
      "157/159 [============================>.] - ETA: 0s - loss: 0.3972 - mae: 0.3972\n",
      "Epoch 00011: val_loss did not improve from 0.43188\n",
      "159/159 [==============================] - 4s 28ms/step - loss: 0.3969 - mae: 0.3969 - val_loss: 0.6397 - val_mae: 0.6397\n",
      "Epoch 12/50\n",
      "159/159 [==============================] - ETA: 0s - loss: 0.3740 - mae: 0.3740\n",
      "Epoch 00012: val_loss did not improve from 0.43188\n",
      "159/159 [==============================] - 5s 28ms/step - loss: 0.3740 - mae: 0.3740 - val_loss: 1.0797 - val_mae: 1.0797\n",
      "Epoch 13/50\n",
      "158/159 [============================>.] - ETA: 0s - loss: 0.2973 - mae: 0.2973\n",
      "Epoch 00013: val_loss improved from 0.43188 to 0.36198, saving model to /home/aiffel0048/aiffel/anomaly_detection/kospi/mymodel.ckpt\n",
      "159/159 [==============================] - 4s 28ms/step - loss: 0.2972 - mae: 0.2972 - val_loss: 0.3620 - val_mae: 0.3620\n",
      "Epoch 14/50\n",
      "158/159 [============================>.] - ETA: 0s - loss: 0.2865 - mae: 0.2865\n",
      "Epoch 00014: val_loss did not improve from 0.36198\n",
      "159/159 [==============================] - 4s 28ms/step - loss: 0.2858 - mae: 0.2858 - val_loss: 0.4218 - val_mae: 0.4218\n",
      "Epoch 15/50\n",
      "159/159 [==============================] - ETA: 0s - loss: 0.2964 - mae: 0.2964\n",
      "Epoch 00015: val_loss did not improve from 0.36198\n",
      "159/159 [==============================] - 4s 28ms/step - loss: 0.2964 - mae: 0.2964 - val_loss: 0.4870 - val_mae: 0.4870\n",
      "Epoch 16/50\n",
      "158/159 [============================>.] - ETA: 0s - loss: 0.3255 - mae: 0.3255\n",
      "Epoch 00016: val_loss did not improve from 0.36198\n",
      "159/159 [==============================] - 5s 28ms/step - loss: 0.3274 - mae: 0.3274 - val_loss: 0.6468 - val_mae: 0.6468\n",
      "Epoch 17/50\n",
      "159/159 [==============================] - ETA: 0s - loss: 0.3696 - mae: 0.3696\n",
      "Epoch 00017: val_loss did not improve from 0.36198\n",
      "159/159 [==============================] - 4s 28ms/step - loss: 0.3696 - mae: 0.3696 - val_loss: 0.9671 - val_mae: 0.9671\n",
      "Epoch 18/50\n",
      "158/159 [============================>.] - ETA: 0s - loss: 0.2870 - mae: 0.2870\n",
      "Epoch 00018: val_loss improved from 0.36198 to 0.33630, saving model to /home/aiffel0048/aiffel/anomaly_detection/kospi/mymodel.ckpt\n",
      "159/159 [==============================] - 4s 27ms/step - loss: 0.2863 - mae: 0.2863 - val_loss: 0.3363 - val_mae: 0.3363\n",
      "Epoch 19/50\n",
      "159/159 [==============================] - ETA: 0s - loss: 0.2675 - mae: 0.2675\n",
      "Epoch 00019: val_loss did not improve from 0.33630\n",
      "159/159 [==============================] - 5s 28ms/step - loss: 0.2675 - mae: 0.2675 - val_loss: 0.6120 - val_mae: 0.6120\n",
      "Epoch 20/50\n",
      "157/159 [============================>.] - ETA: 0s - loss: 0.3397 - mae: 0.3397\n",
      "Epoch 00020: val_loss did not improve from 0.33630\n",
      "159/159 [==============================] - 4s 28ms/step - loss: 0.3420 - mae: 0.3420 - val_loss: 0.5277 - val_mae: 0.5277\n",
      "Epoch 21/50\n",
      "159/159 [==============================] - ETA: 0s - loss: 0.2762 - mae: 0.2762\n",
      "Epoch 00021: val_loss improved from 0.33630 to 0.30130, saving model to /home/aiffel0048/aiffel/anomaly_detection/kospi/mymodel.ckpt\n",
      "159/159 [==============================] - 4s 28ms/step - loss: 0.2762 - mae: 0.2762 - val_loss: 0.3013 - val_mae: 0.3013\n",
      "Epoch 22/50\n",
      "159/159 [==============================] - ETA: 0s - loss: 0.3199 - mae: 0.3199\n",
      "Epoch 00022: val_loss did not improve from 0.30130\n",
      "159/159 [==============================] - 4s 28ms/step - loss: 0.3199 - mae: 0.3199 - val_loss: 0.5366 - val_mae: 0.5366\n",
      "Epoch 23/50\n",
      "158/159 [============================>.] - ETA: 0s - loss: 0.2646 - mae: 0.2646\n",
      "Epoch 00023: val_loss did not improve from 0.30130\n",
      "159/159 [==============================] - 4s 27ms/step - loss: 0.2637 - mae: 0.2637 - val_loss: 1.2523 - val_mae: 1.2523\n",
      "Epoch 24/50\n",
      "159/159 [==============================] - ETA: 0s - loss: 0.4027 - mae: 0.4027\n",
      "Epoch 00024: val_loss did not improve from 0.30130\n",
      "159/159 [==============================] - 4s 27ms/step - loss: 0.4027 - mae: 0.4027 - val_loss: 0.5147 - val_mae: 0.5147\n",
      "Epoch 25/50\n",
      "159/159 [==============================] - ETA: 0s - loss: 0.2594 - mae: 0.2594\n",
      "Epoch 00025: val_loss did not improve from 0.30130\n",
      "159/159 [==============================] - 4s 27ms/step - loss: 0.2594 - mae: 0.2594 - val_loss: 0.3510 - val_mae: 0.3510\n",
      "Epoch 26/50\n",
      "159/159 [==============================] - ETA: 0s - loss: 0.2911 - mae: 0.2911\n",
      "Epoch 00026: val_loss did not improve from 0.30130\n",
      "159/159 [==============================] - 4s 28ms/step - loss: 0.2911 - mae: 0.2911 - val_loss: 0.5216 - val_mae: 0.5216\n"
     ]
    }
   ],
   "source": [
    "hist = model.fit(train_gen, \n",
    "          validation_data=valid_gen,\n",
    "          steps_per_epoch=len(train_gen),\n",
    "          validation_steps=len(valid_gen),\n",
    "          epochs=50, \n",
    "          callbacks=[checkpoint, early_stop])"
   ]
  },
  {
   "cell_type": "code",
   "execution_count": 59,
   "metadata": {},
   "outputs": [
    {
     "data": {
      "text/plain": [
       "<tensorflow.python.training.tracking.util.CheckpointLoadStatus at 0x7f6be00b4990>"
      ]
     },
     "execution_count": 59,
     "metadata": {},
     "output_type": "execute_result"
    }
   ],
   "source": [
    "model.load_weights(checkpoint_path)"
   ]
  },
  {
   "cell_type": "code",
   "execution_count": 60,
   "metadata": {},
   "outputs": [
    {
     "data": {
      "text/plain": [
       "<matplotlib.legend.Legend at 0x7f6b80544c50>"
      ]
     },
     "execution_count": 60,
     "metadata": {},
     "output_type": "execute_result"
    },
    {
     "data": {
      "image/png": "[encoded data removed]",
      "text/plain": [
       "<Figure size 864x576 with 1 Axes>"
      ]
     },
     "metadata": {
      "needs_background": "light"
     },
     "output_type": "display_data"
    }
   ],
   "source": [
    "fig = plt.figure(figsize=(12,8))\n",
    "plt.plot(hist.history['loss'], label='Training')\n",
    "plt.plot(hist.history['val_loss'], label='Validation')\n",
    "plt.legend()"
   ]
  },
  {
   "cell_type": "code",
   "execution_count": 61,
   "metadata": {},
   "outputs": [
    {
     "data": {
      "image/png": "[encoded data removed]",
      "text/plain": [
       "<Figure size 648x432 with 1 Axes>"
      ]
     },
     "metadata": {
      "needs_background": "light"
     },
     "output_type": "display_data"
    }
   ],
   "source": [
    "# 예측 결과를 pred 로, 실적 데이터를 real로 받습니다\n",
    "pred = model.predict(train_gen)\n",
    "real = scaled[window_size:]\n",
    "\n",
    "mae_loss = np.mean(np.abs(pred-real), axis=1)\n",
    "\n",
    "# 샘플 개수가 많기 때문에 y축을 로그 스케일로 그립니다\n",
    "fig, ax = plt.subplots(figsize=(9,6))\n",
    "_ = plt.hist(mae_loss, 100, density=True, alpha=0.75, log=True)"
   ]
  },
  {
   "cell_type": "code",
   "execution_count": 62,
   "metadata": {},
   "outputs": [
    {
     "data": {
      "text/html": [
       "<div>\n",
       "<style scoped>\n",
       "    .dataframe tbody tr th:only-of-type {\n",
       "        vertical-align: middle;\n",
       "    }\n",
       "\n",
       "    .dataframe tbody tr th {\n",
       "        vertical-align: top;\n",
       "    }\n",
       "\n",
       "    .dataframe thead th {\n",
       "        text-align: right;\n",
       "    }\n",
       "</style>\n",
       "<table border=\"1\" class=\"dataframe\">\n",
       "  <thead>\n",
       "    <tr style=\"text-align: right;\">\n",
       "      <th></th>\n",
       "      <th>Date</th>\n",
       "      <th>Open</th>\n",
       "      <th>High</th>\n",
       "      <th>Low</th>\n",
       "      <th>Close</th>\n",
       "      <th>Adj Close</th>\n",
       "      <th>Volume</th>\n",
       "      <th>Loss</th>\n",
       "    </tr>\n",
       "  </thead>\n",
       "  <tbody>\n",
       "  </tbody>\n",
       "</table>\n",
       "</div>"
      ],
      "text/plain": [
       "Empty DataFrame\n",
       "Columns: [Date, Open, High, Low, Close, Adj Close, Volume, Loss]\n",
       "Index: []"
      ]
     },
     "execution_count": 62,
     "metadata": {},
     "output_type": "execute_result"
    }
   ],
   "source": [
    "import copy\n",
    "\n",
    "test_df = copy.deepcopy(df.loc[window_size:]).reset_index(drop=True)\n",
    "test_df['Loss'] = mae_loss\n",
    "\n",
    "threshold = 3\n",
    "test_df.loc[test_df.Loss>threshold]"
   ]
  },
  {
   "cell_type": "code",
   "execution_count": 63,
   "metadata": {},
   "outputs": [
    {
     "data": {
      "text/html": [
       "<div>\n",
       "<style scoped>\n",
       "    .dataframe tbody tr th:only-of-type {\n",
       "        vertical-align: middle;\n",
       "    }\n",
       "\n",
       "    .dataframe tbody tr th {\n",
       "        vertical-align: top;\n",
       "    }\n",
       "\n",
       "    .dataframe thead th {\n",
       "        text-align: right;\n",
       "    }\n",
       "</style>\n",
       "<table border=\"1\" class=\"dataframe\">\n",
       "  <thead>\n",
       "    <tr style=\"text-align: right;\">\n",
       "      <th></th>\n",
       "      <th>Date</th>\n",
       "      <th>Open</th>\n",
       "      <th>High</th>\n",
       "      <th>Low</th>\n",
       "      <th>Close</th>\n",
       "      <th>Adj Close</th>\n",
       "      <th>Volume</th>\n",
       "      <th>Loss</th>\n",
       "    </tr>\n",
       "  </thead>\n",
       "  <tbody>\n",
       "    <tr>\n",
       "      <th>13</th>\n",
       "      <td>2000-10-19</td>\n",
       "      <td>3180.000000</td>\n",
       "      <td>3447.000000</td>\n",
       "      <td>3180.000000</td>\n",
       "      <td>3447.000000</td>\n",
       "      <td>3447.000000</td>\n",
       "      <td>65554.0</td>\n",
       "      <td>0.347433</td>\n",
       "    </tr>\n",
       "    <tr>\n",
       "      <th>14</th>\n",
       "      <td>2000-10-20</td>\n",
       "      <td>3437.000000</td>\n",
       "      <td>3555.500000</td>\n",
       "      <td>3412.000000</td>\n",
       "      <td>3499.500000</td>\n",
       "      <td>3499.500000</td>\n",
       "      <td>50436.0</td>\n",
       "      <td>0.556745</td>\n",
       "    </tr>\n",
       "    <tr>\n",
       "      <th>15</th>\n",
       "      <td>2000-10-23</td>\n",
       "      <td>3498.500000</td>\n",
       "      <td>3563.500000</td>\n",
       "      <td>3406.000000</td>\n",
       "      <td>3471.000000</td>\n",
       "      <td>3471.000000</td>\n",
       "      <td>65144.0</td>\n",
       "      <td>0.521835</td>\n",
       "    </tr>\n",
       "    <tr>\n",
       "      <th>16</th>\n",
       "      <td>2000-10-24</td>\n",
       "      <td>3477.000000</td>\n",
       "      <td>3535.000000</td>\n",
       "      <td>3329.000000</td>\n",
       "      <td>3342.500000</td>\n",
       "      <td>3342.500000</td>\n",
       "      <td>64818.0</td>\n",
       "      <td>0.425436</td>\n",
       "    </tr>\n",
       "    <tr>\n",
       "      <th>23</th>\n",
       "      <td>2000-11-02</td>\n",
       "      <td>3263.500000</td>\n",
       "      <td>3361.500000</td>\n",
       "      <td>3229.500000</td>\n",
       "      <td>3316.500000</td>\n",
       "      <td>3316.500000</td>\n",
       "      <td>57125.0</td>\n",
       "      <td>0.310718</td>\n",
       "    </tr>\n",
       "    <tr>\n",
       "      <th>...</th>\n",
       "      <td>...</td>\n",
       "      <td>...</td>\n",
       "      <td>...</td>\n",
       "      <td>...</td>\n",
       "      <td>...</td>\n",
       "      <td>...</td>\n",
       "      <td>...</td>\n",
       "      <td>...</td>\n",
       "    </tr>\n",
       "    <tr>\n",
       "      <th>5076</th>\n",
       "      <td>2020-10-08</td>\n",
       "      <td>11473.200195</td>\n",
       "      <td>11578.799805</td>\n",
       "      <td>11469.799805</td>\n",
       "      <td>11539.000000</td>\n",
       "      <td>11539.000000</td>\n",
       "      <td>403379.0</td>\n",
       "      <td>0.448241</td>\n",
       "    </tr>\n",
       "    <tr>\n",
       "      <th>5077</th>\n",
       "      <td>2020-10-09</td>\n",
       "      <td>11562.000000</td>\n",
       "      <td>11739.000000</td>\n",
       "      <td>11552.500000</td>\n",
       "      <td>11724.799805</td>\n",
       "      <td>11724.799805</td>\n",
       "      <td>408445.0</td>\n",
       "      <td>0.459696</td>\n",
       "    </tr>\n",
       "    <tr>\n",
       "      <th>5078</th>\n",
       "      <td>2020-10-12</td>\n",
       "      <td>11722.799805</td>\n",
       "      <td>12197.000000</td>\n",
       "      <td>11687.799805</td>\n",
       "      <td>12098.200195</td>\n",
       "      <td>12098.200195</td>\n",
       "      <td>756438.0</td>\n",
       "      <td>0.784046</td>\n",
       "    </tr>\n",
       "    <tr>\n",
       "      <th>5079</th>\n",
       "      <td>2020-10-13</td>\n",
       "      <td>12100.000000</td>\n",
       "      <td>12249.000000</td>\n",
       "      <td>12019.000000</td>\n",
       "      <td>12094.000000</td>\n",
       "      <td>12094.000000</td>\n",
       "      <td>754735.0</td>\n",
       "      <td>0.858219</td>\n",
       "    </tr>\n",
       "    <tr>\n",
       "      <th>5080</th>\n",
       "      <td>2020-10-14</td>\n",
       "      <td>12079.799805</td>\n",
       "      <td>12178.000000</td>\n",
       "      <td>11901.799805</td>\n",
       "      <td>11974.200195</td>\n",
       "      <td>11974.200195</td>\n",
       "      <td>597198.0</td>\n",
       "      <td>0.420395</td>\n",
       "    </tr>\n",
       "  </tbody>\n",
       "</table>\n",
       "<p>924 rows × 8 columns</p>\n",
       "</div>"
      ],
      "text/plain": [
       "           Date          Open          High           Low         Close  \\\n",
       "13   2000-10-19   3180.000000   3447.000000   3180.000000   3447.000000   \n",
       "14   2000-10-20   3437.000000   3555.500000   3412.000000   3499.500000   \n",
       "15   2000-10-23   3498.500000   3563.500000   3406.000000   3471.000000   \n",
       "16   2000-10-24   3477.000000   3535.000000   3329.000000   3342.500000   \n",
       "23   2000-11-02   3263.500000   3361.500000   3229.500000   3316.500000   \n",
       "...         ...           ...           ...           ...           ...   \n",
       "5076 2020-10-08  11473.200195  11578.799805  11469.799805  11539.000000   \n",
       "5077 2020-10-09  11562.000000  11739.000000  11552.500000  11724.799805   \n",
       "5078 2020-10-12  11722.799805  12197.000000  11687.799805  12098.200195   \n",
       "5079 2020-10-13  12100.000000  12249.000000  12019.000000  12094.000000   \n",
       "5080 2020-10-14  12079.799805  12178.000000  11901.799805  11974.200195   \n",
       "\n",
       "         Adj Close    Volume      Loss  \n",
       "13     3447.000000   65554.0  0.347433  \n",
       "14     3499.500000   50436.0  0.556745  \n",
       "15     3471.000000   65144.0  0.521835  \n",
       "16     3342.500000   64818.0  0.425436  \n",
       "23     3316.500000   57125.0  0.310718  \n",
       "...            ...       ...       ...  \n",
       "5076  11539.000000  403379.0  0.448241  \n",
       "5077  11724.799805  408445.0  0.459696  \n",
       "5078  12098.200195  756438.0  0.784046  \n",
       "5079  12094.000000  754735.0  0.858219  \n",
       "5080  11974.200195  597198.0  0.420395  \n",
       "\n",
       "[924 rows x 8 columns]"
      ]
     },
     "execution_count": 63,
     "metadata": {},
     "output_type": "execute_result"
    }
   ],
   "source": [
    "threshold = 0.3\n",
    "test_df.loc[test_df.Loss>threshold]"
   ]
  },
  {
   "cell_type": "code",
   "execution_count": 64,
   "metadata": {},
   "outputs": [
    {
     "data": {
      "text/plain": [
       "[<matplotlib.lines.Line2D at 0x7f6b8005e150>]"
      ]
     },
     "execution_count": 64,
     "metadata": {},
     "output_type": "execute_result"
    },
    {
     "name": "stderr",
     "output_type": "stream",
     "text": [
      "/home/aiffel0048/anaconda3/envs/aiffel/lib/python3.7/site-packages/matplotlib/lines.py:191: FutureWarning: Using a non-tuple sequence for multidimensional indexing is deprecated; use `arr[tuple(seq)]` instead of `arr[seq]`. In the future this will be interpreted as an array index, `arr[np.array(seq)]`, which will result either in an error or a different result.\n",
      "  return Path(verts[markevery], _slice_or_none(codes, markevery))\n"
     ]
    },
    {
     "data": {
      "image/png": "[encoded data removed]",
      "text/plain": [
       "<Figure size 864x1080 with 3 Axes>"
      ]
     },
     "metadata": {
      "needs_background": "light"
     },
     "output_type": "display_data"
    }
   ],
   "source": [
    "fig = plt.figure(figsize=(12,15))\n",
    "\n",
    "# 가격들 그래프입니다\n",
    "ax = fig.add_subplot(311)\n",
    "ax.set_title('Open/Close')\n",
    "plt.plot(test_df.Date, test_df.Close, linewidth=0.5, alpha=0.75, label='Close')\n",
    "plt.plot(test_df.Date, test_df.Open, linewidth=0.5, alpha=0.75, label='Open')\n",
    "plt.plot(test_df.Date, test_df.Close, 'or', markevery=[mae_loss>threshold])\n",
    "\n",
    "# 거래량 그래프입니다\n",
    "ax = fig.add_subplot(312)\n",
    "ax.set_title('Volume')\n",
    "plt.plot(test_df.Date, test_df.Volume, linewidth=0.5, alpha=0.75, label='Volume')\n",
    "plt.plot(test_df.Date, test_df.Volume, 'or', markevery=[mae_loss>threshold])\n",
    "\n",
    "# 오차율 그래프입니다\n",
    "ax = fig.add_subplot(313)\n",
    "ax.set_title('Loss')\n",
    "plt.plot(test_df.Date, test_df.Loss, linewidth=0.5, alpha=0.75, label='Loss')\n",
    "plt.plot(test_df.Date, test_df.Loss, 'or', markevery=[mae_loss>threshold])"
   ]
  },
  {
   "cell_type": "code",
   "execution_count": null,
   "metadata": {},
   "outputs": [],
   "source": []
  }
 ],
 "metadata": {
  "kernelspec": {
   "display_name": "aiffel",
   "language": "python",
   "name": "aiffel"
  },
  "language_info": {
   "codemirror_mode": {
    "name": "ipython",
    "version": 3
   },
   "file_extension": ".py",
   "mimetype": "text/x-python",
   "name": "python",
   "nbconvert_exporter": "python",
   "pygments_lexer": "ipython3",
   "version": "3.7.6"
  }
 },
 "nbformat": 4,
 "nbformat_minor": 4
}
